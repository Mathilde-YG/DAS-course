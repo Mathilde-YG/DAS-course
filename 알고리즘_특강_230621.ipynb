{
  "nbformat": 4,
  "nbformat_minor": 0,
  "metadata": {
    "colab": {
      "provenance": [],
      "authorship_tag": "ABX9TyOMfvxHpQboauYYE7xwD6V0",
      "include_colab_link": true
    },
    "kernelspec": {
      "name": "python3",
      "display_name": "Python 3"
    },
    "language_info": {
      "name": "python"
    }
  },
  "cells": [
    {
      "cell_type": "markdown",
      "metadata": {
        "id": "view-in-github",
        "colab_type": "text"
      },
      "source": [
        "<a href=\"https://colab.research.google.com/github/Mathilde-YG/DAS-course/blob/main/%EC%95%8C%EA%B3%A0%EB%A6%AC%EC%A6%98_%ED%8A%B9%EA%B0%95_230621.ipynb\" target=\"_parent\"><img src=\"https://colab.research.google.com/assets/colab-badge.svg\" alt=\"Open In Colab\"/></a>"
      ]
    },
    {
      "cell_type": "markdown",
      "source": [
        "### 1.3.1 1번 워밍업 문제(google)\n",
        "#### 큰 문제는 잘게 쪼개서\n",
        "1부터 10,000까지 8이라는 숫자가 총 몇번 나오는가?\n",
        "\n",
        "8이 포함되어 있는 숫자의 갯수를 카운팅 하는 것이 아니라 8이라는 숫자를 모두 카운팅 해야 한다.\n",
        "(※ 예를들어 8808은 3, 8888은 4로 카운팅 해야 함)\n",
        "\n",
        "문제 링크 : https://codingdojang.com/scode/393\n",
        "\n",
        "\n"
      ],
      "metadata": {
        "id": "tvgWg2PVRtLW"
      }
    },
    {
      "cell_type": "code",
      "execution_count": 6,
      "metadata": {
        "colab": {
          "base_uri": "https://localhost:8080/"
        },
        "id": "zPXjXIvFQh48",
        "outputId": "5d42deb9-23b1-4855-b1f6-054b9ce782e7"
      },
      "outputs": [
        {
          "output_type": "execute_result",
          "data": {
            "text/plain": [
              "20"
            ]
          },
          "metadata": {},
          "execution_count": 6
        }
      ],
      "source": [
        "str([i for i in range(101)]).count('8')\n"
      ]
    },
    {
      "cell_type": "markdown",
      "source": [
        "### 1.3.2 2번 워밍업 문제(daum)\n",
        "\n",
        "1차원의 점들이 주어졌을 때, 그 중 가장 거리가 짧은 것의 쌍을 출력하는 함수를 작성하시오. (단 점들의 배열은 모두 정렬되어있다고 가정한다.)\n",
        "\n",
        "예를들어 S = [1, 3, 4, 8, 13, 17, 20] 이 주어졌다면, 결과값은 (3, 4)가 될 것이다.\n",
        "\n",
        "문제링크 : https://codingdojang.com/scode/408\n",
        "\n"
      ],
      "metadata": {
        "id": "p5xvqutBRzI2"
      }
    },
    {
      "cell_type": "code",
      "source": [
        "data = [1, 3, 4, 8, 13, 17, 20]\n",
        "list(zip(data, data[1:]))\n",
        "sorted(zip(data, data[1:]), key=lambda x:x[1]-x[0])\n",
        "sorted(zip(data, data[1:]), key=lambda x:x[1]-x[0])[0]"
      ],
      "metadata": {
        "id": "3kH9CHpmRzsW",
        "colab": {
          "base_uri": "https://localhost:8080/"
        },
        "outputId": "04c939f2-17db-41df-b986-a18773cedce6"
      },
      "execution_count": 7,
      "outputs": [
        {
          "output_type": "execute_result",
          "data": {
            "text/plain": [
              "(3, 4)"
            ]
          },
          "metadata": {},
          "execution_count": 7
        }
      ]
    },
    {
      "cell_type": "code",
      "source": [
        "my_list = [1, 2, 3, 4]\n",
        "my_iter = iter(my_list) # my_list에 __iter__가 호출됩니다.\n",
        "\n",
        "print(next(my_iter))  # 출력: 1 # my_list에 __next__가 호출됩니다.\n",
        "print(next(my_iter))  # 출력: 2 # my_list에 __next__가 호출됩니다."
      ],
      "metadata": {
        "colab": {
          "base_uri": "https://localhost:8080/"
        },
        "id": "v-dlhiqmWcJL",
        "outputId": "3553131e-faf4-4fd9-e63a-7e7af7b55f32"
      },
      "execution_count": 8,
      "outputs": [
        {
          "output_type": "stream",
          "name": "stdout",
          "text": [
            "1\n",
            "2\n"
          ]
        }
      ]
    },
    {
      "cell_type": "code",
      "source": [
        "class MyIterator:\n",
        "    def __init__(self, stop):\n",
        "        self.currentValue = 0\n",
        "        self.stop = stop\n",
        "\n",
        "    def __iter__(self):\n",
        "        return self\n",
        "\n",
        "    def __next__(self):\n",
        "        if self.currentValue >= self.stop:\n",
        "            raise StopIteration\n",
        "        result = self.currentValue\n",
        "        self.currentValue += 1\n",
        "        return result\n",
        "\n",
        "my_iterator = MyIterator(5)\n",
        "\n",
        "for i in my_iterator:\n",
        "    print(i)\n",
        "\n",
        "for i in my_iterator:\n",
        "    print(i)"
      ],
      "metadata": {
        "colab": {
          "base_uri": "https://localhost:8080/"
        },
        "id": "72VCw46zW3nc",
        "outputId": "fafdb15e-93b3-4b29-a05c-5680aa2d3fa9"
      },
      "execution_count": 11,
      "outputs": [
        {
          "output_type": "stream",
          "name": "stdout",
          "text": [
            "0\n",
            "1\n",
            "2\n",
            "3\n",
            "4\n"
          ]
        }
      ]
    },
    {
      "cell_type": "code",
      "source": [
        "# 언패킹\n",
        "a, b, c, d = range(4)\n",
        "a, b, c, d"
      ],
      "metadata": {
        "colab": {
          "base_uri": "https://localhost:8080/"
        },
        "id": "QYxJKbc-aF2O",
        "outputId": "c6200e10-ca39-4aec-d1e3-23284fc3429b"
      },
      "execution_count": 12,
      "outputs": [
        {
          "output_type": "execute_result",
          "data": {
            "text/plain": [
              "(0, 1, 2, 3)"
            ]
          },
          "metadata": {},
          "execution_count": 12
        }
      ]
    },
    {
      "cell_type": "code",
      "source": [
        "# 3.9 버전에서 나온 결합연산자\n",
        "x = {\"key1\": \"value1\"}\n",
        "y = {\"key2\": \"value2\"}\n",
        "z = x | y\n",
        "z"
      ],
      "metadata": {
        "colab": {
          "base_uri": "https://localhost:8080/"
        },
        "id": "GrDlaiA7aK9e",
        "outputId": "583fa048-fcd4-4888-f6cc-799302df9c26"
      },
      "execution_count": 13,
      "outputs": [
        {
          "output_type": "execute_result",
          "data": {
            "text/plain": [
              "{'key1': 'value1', 'key2': 'value2'}"
            ]
          },
          "metadata": {},
          "execution_count": 13
        }
      ]
    },
    {
      "cell_type": "code",
      "source": [
        "x = {\"key1\": \"value1\"}\n",
        "y = {\"key2\": \"value2\"}\n",
        "list(x.items()) + list(y.items())"
      ],
      "metadata": {
        "colab": {
          "base_uri": "https://localhost:8080/"
        },
        "id": "T3gg9bjPaqdw",
        "outputId": "f550d696-82e1-4b9d-dc80-6c63db648aa7"
      },
      "execution_count": 14,
      "outputs": [
        {
          "output_type": "execute_result",
          "data": {
            "text/plain": [
              "[('key1', 'value1'), ('key2', 'value2')]"
            ]
          },
          "metadata": {},
          "execution_count": 14
        }
      ]
    },
    {
      "cell_type": "code",
      "source": [
        "# 위 방식 말고도 딕셔너리 언패킹 사용 가능\n",
        "x ="
      ],
      "metadata": {
        "id": "O3mwrvHJbYwQ"
      },
      "execution_count": null,
      "outputs": []
    }
  ]
}