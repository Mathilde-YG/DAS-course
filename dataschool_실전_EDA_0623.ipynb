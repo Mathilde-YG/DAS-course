{
  "nbformat": 4,
  "nbformat_minor": 0,
  "metadata": {
    "colab": {
      "provenance": [],
      "include_colab_link": true
    },
    "kernelspec": {
      "name": "python3",
      "display_name": "Python 3"
    },
    "language_info": {
      "name": "python"
    }
  },
  "cells": [
    {
      "cell_type": "markdown",
      "metadata": {
        "id": "view-in-github",
        "colab_type": "text"
      },
      "source": [
        "<a href=\"https://colab.research.google.com/github/Mathilde-YG/DAS-course/blob/main/dataschool_%EC%8B%A4%EC%A0%84_EDA_0623.ipynb\" target=\"_parent\"><img src=\"https://colab.research.google.com/assets/colab-badge.svg\" alt=\"Open In Colab\"/></a>"
      ]
    },
    {
      "cell_type": "markdown",
      "source": [
        "#1. 결측값 처리\n",
        "\n",
        "통계학 적으로 데이터를 처리하는 기법 중에서 결측값 처리가 있습니다.\n",
        "결측값을 처리하는 방법은 다음과 같습니다.\n",
        "\n",
        "* 데이터 일괄 제거\n",
        "* 보간법으로 인한 값 대체\n",
        "* 결측값 -> 특이값으로 대체 등\n",
        "\n",
        "여러 방법이 있는데요. 우리가 배웠던 통계적인 수치를 통해 대체하는 법을 배워봅시다."
      ],
      "metadata": {
        "id": "jV2nnKi6C1Dg"
      }
    },
    {
      "cell_type": "code",
      "source": [
        "pip install --upgrade pandas==1.3.5"
      ],
      "metadata": {
        "colab": {
          "base_uri": "https://localhost:8080/"
        },
        "id": "lyUHGa38RUFU",
        "outputId": "fc225da4-8359-4b7f-f85d-e9551522a99c"
      },
      "execution_count": null,
      "outputs": [
        {
          "output_type": "stream",
          "name": "stdout",
          "text": [
            "Looking in indexes: https://pypi.org/simple, https://us-python.pkg.dev/colab-wheels/public/simple/\n",
            "Requirement already satisfied: pandas==1.3.5 in /usr/local/lib/python3.10/dist-packages (1.3.5)\n",
            "Requirement already satisfied: python-dateutil>=2.7.3 in /usr/local/lib/python3.10/dist-packages (from pandas==1.3.5) (2.8.2)\n",
            "Requirement already satisfied: pytz>=2017.3 in /usr/local/lib/python3.10/dist-packages (from pandas==1.3.5) (2022.7.1)\n",
            "Requirement already satisfied: numpy>=1.21.0 in /usr/local/lib/python3.10/dist-packages (from pandas==1.3.5) (1.22.4)\n",
            "Requirement already satisfied: six>=1.5 in /usr/local/lib/python3.10/dist-packages (from python-dateutil>=2.7.3->pandas==1.3.5) (1.16.0)\n"
          ]
        }
      ]
    },
    {
      "cell_type": "code",
      "source": [
        "# 필요한 패키지 설치\n",
        "import matplotlib.pyplot as plt\n",
        "import numpy as np\n",
        "import pandas as pd"
      ],
      "metadata": {
        "id": "Laa2pVr_DOsA"
      },
      "execution_count": null,
      "outputs": []
    },
    {
      "cell_type": "code",
      "source": [
        "# 데이터 불러오기\n",
        "# https://www.kaggle.com/datasets/sewonghwang/daily-bike-sharing\n",
        "df = pd.read_csv(\"/content/bike_sharing_daily.csv\")\n",
        "\n",
        "# 데이터 샘플 확인\n",
        "df.head()"
      ],
      "metadata": {
        "colab": {
          "base_uri": "https://localhost:8080/",
          "height": 357
        },
        "id": "ZIMVI7elDUHh",
        "outputId": "171972f1-14c0-46c5-8428-974eb165fce5"
      },
      "execution_count": null,
      "outputs": [
        {
          "output_type": "execute_result",
          "data": {
            "text/plain": [
              "   instant      dteday  season  yr  mnth  holiday  weekday  workingday  \\\n",
              "0        1  2011-01-01       1   0     1        0        6           0   \n",
              "1        2  2011-01-02       1   0     1        0        0           0   \n",
              "2        3  2011-01-03       1   0     1        0        1           1   \n",
              "3        4  2011-01-04       1   0     1        0        2           1   \n",
              "4        5  2011-01-05       1   0     1        0        3           1   \n",
              "\n",
              "   weathersit      temp     atemp       hum  windspeed  casual  registered  \\\n",
              "0           2  0.344167  0.363625  0.805833   0.160446   331.0       654.0   \n",
              "1           2  0.363478  0.353739  0.696087   0.248539   131.0       670.0   \n",
              "2           1  0.196364       NaN  0.437273   0.248309   120.0      1229.0   \n",
              "3           1  0.200000  0.212122  0.590435   0.160296   108.0      1454.0   \n",
              "4           1  0.226957  0.229270  0.436957   0.186900    82.0      1518.0   \n",
              "\n",
              "    cnt  \n",
              "0   985  \n",
              "1   801  \n",
              "2  1349  \n",
              "3  1562  \n",
              "4  1600  "
            ],
            "text/html": [
              "\n",
              "  <div id=\"df-c20e5bda-3249-42ce-9e3e-f9e0535c71ad\">\n",
              "    <div class=\"colab-df-container\">\n",
              "      <div>\n",
              "<style scoped>\n",
              "    .dataframe tbody tr th:only-of-type {\n",
              "        vertical-align: middle;\n",
              "    }\n",
              "\n",
              "    .dataframe tbody tr th {\n",
              "        vertical-align: top;\n",
              "    }\n",
              "\n",
              "    .dataframe thead th {\n",
              "        text-align: right;\n",
              "    }\n",
              "</style>\n",
              "<table border=\"1\" class=\"dataframe\">\n",
              "  <thead>\n",
              "    <tr style=\"text-align: right;\">\n",
              "      <th></th>\n",
              "      <th>instant</th>\n",
              "      <th>dteday</th>\n",
              "      <th>season</th>\n",
              "      <th>yr</th>\n",
              "      <th>mnth</th>\n",
              "      <th>holiday</th>\n",
              "      <th>weekday</th>\n",
              "      <th>workingday</th>\n",
              "      <th>weathersit</th>\n",
              "      <th>temp</th>\n",
              "      <th>atemp</th>\n",
              "      <th>hum</th>\n",
              "      <th>windspeed</th>\n",
              "      <th>casual</th>\n",
              "      <th>registered</th>\n",
              "      <th>cnt</th>\n",
              "    </tr>\n",
              "  </thead>\n",
              "  <tbody>\n",
              "    <tr>\n",
              "      <th>0</th>\n",
              "      <td>1</td>\n",
              "      <td>2011-01-01</td>\n",
              "      <td>1</td>\n",
              "      <td>0</td>\n",
              "      <td>1</td>\n",
              "      <td>0</td>\n",
              "      <td>6</td>\n",
              "      <td>0</td>\n",
              "      <td>2</td>\n",
              "      <td>0.344167</td>\n",
              "      <td>0.363625</td>\n",
              "      <td>0.805833</td>\n",
              "      <td>0.160446</td>\n",
              "      <td>331.0</td>\n",
              "      <td>654.0</td>\n",
              "      <td>985</td>\n",
              "    </tr>\n",
              "    <tr>\n",
              "      <th>1</th>\n",
              "      <td>2</td>\n",
              "      <td>2011-01-02</td>\n",
              "      <td>1</td>\n",
              "      <td>0</td>\n",
              "      <td>1</td>\n",
              "      <td>0</td>\n",
              "      <td>0</td>\n",
              "      <td>0</td>\n",
              "      <td>2</td>\n",
              "      <td>0.363478</td>\n",
              "      <td>0.353739</td>\n",
              "      <td>0.696087</td>\n",
              "      <td>0.248539</td>\n",
              "      <td>131.0</td>\n",
              "      <td>670.0</td>\n",
              "      <td>801</td>\n",
              "    </tr>\n",
              "    <tr>\n",
              "      <th>2</th>\n",
              "      <td>3</td>\n",
              "      <td>2011-01-03</td>\n",
              "      <td>1</td>\n",
              "      <td>0</td>\n",
              "      <td>1</td>\n",
              "      <td>0</td>\n",
              "      <td>1</td>\n",
              "      <td>1</td>\n",
              "      <td>1</td>\n",
              "      <td>0.196364</td>\n",
              "      <td>NaN</td>\n",
              "      <td>0.437273</td>\n",
              "      <td>0.248309</td>\n",
              "      <td>120.0</td>\n",
              "      <td>1229.0</td>\n",
              "      <td>1349</td>\n",
              "    </tr>\n",
              "    <tr>\n",
              "      <th>3</th>\n",
              "      <td>4</td>\n",
              "      <td>2011-01-04</td>\n",
              "      <td>1</td>\n",
              "      <td>0</td>\n",
              "      <td>1</td>\n",
              "      <td>0</td>\n",
              "      <td>2</td>\n",
              "      <td>1</td>\n",
              "      <td>1</td>\n",
              "      <td>0.200000</td>\n",
              "      <td>0.212122</td>\n",
              "      <td>0.590435</td>\n",
              "      <td>0.160296</td>\n",
              "      <td>108.0</td>\n",
              "      <td>1454.0</td>\n",
              "      <td>1562</td>\n",
              "    </tr>\n",
              "    <tr>\n",
              "      <th>4</th>\n",
              "      <td>5</td>\n",
              "      <td>2011-01-05</td>\n",
              "      <td>1</td>\n",
              "      <td>0</td>\n",
              "      <td>1</td>\n",
              "      <td>0</td>\n",
              "      <td>3</td>\n",
              "      <td>1</td>\n",
              "      <td>1</td>\n",
              "      <td>0.226957</td>\n",
              "      <td>0.229270</td>\n",
              "      <td>0.436957</td>\n",
              "      <td>0.186900</td>\n",
              "      <td>82.0</td>\n",
              "      <td>1518.0</td>\n",
              "      <td>1600</td>\n",
              "    </tr>\n",
              "  </tbody>\n",
              "</table>\n",
              "</div>\n",
              "      <button class=\"colab-df-convert\" onclick=\"convertToInteractive('df-c20e5bda-3249-42ce-9e3e-f9e0535c71ad')\"\n",
              "              title=\"Convert this dataframe to an interactive table.\"\n",
              "              style=\"display:none;\">\n",
              "        \n",
              "  <svg xmlns=\"http://www.w3.org/2000/svg\" height=\"24px\"viewBox=\"0 0 24 24\"\n",
              "       width=\"24px\">\n",
              "    <path d=\"M0 0h24v24H0V0z\" fill=\"none\"/>\n",
              "    <path d=\"M18.56 5.44l.94 2.06.94-2.06 2.06-.94-2.06-.94-.94-2.06-.94 2.06-2.06.94zm-11 1L8.5 8.5l.94-2.06 2.06-.94-2.06-.94L8.5 2.5l-.94 2.06-2.06.94zm10 10l.94 2.06.94-2.06 2.06-.94-2.06-.94-.94-2.06-.94 2.06-2.06.94z\"/><path d=\"M17.41 7.96l-1.37-1.37c-.4-.4-.92-.59-1.43-.59-.52 0-1.04.2-1.43.59L10.3 9.45l-7.72 7.72c-.78.78-.78 2.05 0 2.83L4 21.41c.39.39.9.59 1.41.59.51 0 1.02-.2 1.41-.59l7.78-7.78 2.81-2.81c.8-.78.8-2.07 0-2.86zM5.41 20L4 18.59l7.72-7.72 1.47 1.35L5.41 20z\"/>\n",
              "  </svg>\n",
              "      </button>\n",
              "      \n",
              "  <style>\n",
              "    .colab-df-container {\n",
              "      display:flex;\n",
              "      flex-wrap:wrap;\n",
              "      gap: 12px;\n",
              "    }\n",
              "\n",
              "    .colab-df-convert {\n",
              "      background-color: #E8F0FE;\n",
              "      border: none;\n",
              "      border-radius: 50%;\n",
              "      cursor: pointer;\n",
              "      display: none;\n",
              "      fill: #1967D2;\n",
              "      height: 32px;\n",
              "      padding: 0 0 0 0;\n",
              "      width: 32px;\n",
              "    }\n",
              "\n",
              "    .colab-df-convert:hover {\n",
              "      background-color: #E2EBFA;\n",
              "      box-shadow: 0px 1px 2px rgba(60, 64, 67, 0.3), 0px 1px 3px 1px rgba(60, 64, 67, 0.15);\n",
              "      fill: #174EA6;\n",
              "    }\n",
              "\n",
              "    [theme=dark] .colab-df-convert {\n",
              "      background-color: #3B4455;\n",
              "      fill: #D2E3FC;\n",
              "    }\n",
              "\n",
              "    [theme=dark] .colab-df-convert:hover {\n",
              "      background-color: #434B5C;\n",
              "      box-shadow: 0px 1px 3px 1px rgba(0, 0, 0, 0.15);\n",
              "      filter: drop-shadow(0px 1px 2px rgba(0, 0, 0, 0.3));\n",
              "      fill: #FFFFFF;\n",
              "    }\n",
              "  </style>\n",
              "\n",
              "      <script>\n",
              "        const buttonEl =\n",
              "          document.querySelector('#df-c20e5bda-3249-42ce-9e3e-f9e0535c71ad button.colab-df-convert');\n",
              "        buttonEl.style.display =\n",
              "          google.colab.kernel.accessAllowed ? 'block' : 'none';\n",
              "\n",
              "        async function convertToInteractive(key) {\n",
              "          const element = document.querySelector('#df-c20e5bda-3249-42ce-9e3e-f9e0535c71ad');\n",
              "          const dataTable =\n",
              "            await google.colab.kernel.invokeFunction('convertToInteractive',\n",
              "                                                     [key], {});\n",
              "          if (!dataTable) return;\n",
              "\n",
              "          const docLinkHtml = 'Like what you see? Visit the ' +\n",
              "            '<a target=\"_blank\" href=https://colab.research.google.com/notebooks/data_table.ipynb>data table notebook</a>'\n",
              "            + ' to learn more about interactive tables.';\n",
              "          element.innerHTML = '';\n",
              "          dataTable['output_type'] = 'display_data';\n",
              "          await google.colab.output.renderOutput(dataTable, element);\n",
              "          const docLink = document.createElement('div');\n",
              "          docLink.innerHTML = docLinkHtml;\n",
              "          element.appendChild(docLink);\n",
              "        }\n",
              "      </script>\n",
              "    </div>\n",
              "  </div>\n",
              "  "
            ]
          },
          "metadata": {},
          "execution_count": 11
        }
      ]
    },
    {
      "cell_type": "code",
      "source": [
        "# 각 컬럼의 속성 및 결측값 확인\n",
        "df.info()"
      ],
      "metadata": {
        "colab": {
          "base_uri": "https://localhost:8080/"
        },
        "id": "APs1IWZCDlwB",
        "outputId": "554e0498-b7bd-464e-e6ad-65f6131cb474"
      },
      "execution_count": null,
      "outputs": [
        {
          "output_type": "stream",
          "name": "stdout",
          "text": [
            "<class 'pandas.core.frame.DataFrame'>\n",
            "RangeIndex: 731 entries, 0 to 730\n",
            "Data columns (total 16 columns):\n",
            " #   Column      Non-Null Count  Dtype  \n",
            "---  ------      --------------  -----  \n",
            " 0   instant     731 non-null    int64  \n",
            " 1   dteday      731 non-null    object \n",
            " 2   season      731 non-null    int64  \n",
            " 3   yr          731 non-null    int64  \n",
            " 4   mnth        731 non-null    int64  \n",
            " 5   holiday     731 non-null    int64  \n",
            " 6   weekday     731 non-null    int64  \n",
            " 7   workingday  731 non-null    int64  \n",
            " 8   weathersit  731 non-null    int64  \n",
            " 9   temp        714 non-null    float64\n",
            " 10  atemp       707 non-null    float64\n",
            " 11  hum         706 non-null    float64\n",
            " 12  windspeed   718 non-null    float64\n",
            " 13  casual      720 non-null    float64\n",
            " 14  registered  720 non-null    float64\n",
            " 15  cnt         731 non-null    int64  \n",
            "dtypes: float64(6), int64(9), object(1)\n",
            "memory usage: 91.5+ KB\n"
          ]
        }
      ]
    },
    {
      "cell_type": "code",
      "source": [
        "# 결측값 수만 확인\n",
        "df.isnull().sum()"
      ],
      "metadata": {
        "colab": {
          "base_uri": "https://localhost:8080/"
        },
        "id": "G5xggyjXDnsU",
        "outputId": "d9e5e856-5dd4-4c00-e7dd-962efd1ef492"
      },
      "execution_count": null,
      "outputs": [
        {
          "output_type": "execute_result",
          "data": {
            "text/plain": [
              "instant        0\n",
              "dteday         0\n",
              "season         0\n",
              "yr             0\n",
              "mnth           0\n",
              "holiday        0\n",
              "weekday        0\n",
              "workingday     0\n",
              "weathersit     0\n",
              "temp          17\n",
              "atemp         24\n",
              "hum           25\n",
              "windspeed     13\n",
              "casual        11\n",
              "registered    11\n",
              "cnt            0\n",
              "dtype: int64"
            ]
          },
          "metadata": {},
          "execution_count": 13
        }
      ]
    },
    {
      "cell_type": "code",
      "source": [
        "# 결측값 표본 제거\n",
        "\n",
        "# 모든 컬럼이 결측값인 행 제거\n",
        "df_drop_all = df.dropna(how='all')\n",
        "\n",
        "df_drop_all.isnull().sum()"
      ],
      "metadata": {
        "colab": {
          "base_uri": "https://localhost:8080/"
        },
        "id": "z_jZcQ3gDoyb",
        "outputId": "054812db-8292-4ed4-838b-0bd87f259f4b"
      },
      "execution_count": null,
      "outputs": [
        {
          "output_type": "execute_result",
          "data": {
            "text/plain": [
              "instant        0\n",
              "dteday         0\n",
              "season         0\n",
              "yr             0\n",
              "mnth           0\n",
              "holiday        0\n",
              "weekday        0\n",
              "workingday     0\n",
              "weathersit     0\n",
              "temp          17\n",
              "atemp         24\n",
              "hum           25\n",
              "windspeed     13\n",
              "casual        11\n",
              "registered    11\n",
              "cnt            0\n",
              "dtype: int64"
            ]
          },
          "metadata": {},
          "execution_count": 14
        }
      ]
    },
    {
      "cell_type": "code",
      "source": [
        "# 특정 컬럼(temp)이 결측값인 행 제거\n",
        "df_drop_slt = df.dropna(subset=['temp'])\n",
        "\n",
        "df_drop_slt.isnull().sum()"
      ],
      "metadata": {
        "colab": {
          "base_uri": "https://localhost:8080/"
        },
        "id": "6bc7w8KWD9Qr",
        "outputId": "07f660b4-43b2-44a6-9b28-9d9dc191c6e3"
      },
      "execution_count": null,
      "outputs": [
        {
          "output_type": "execute_result",
          "data": {
            "text/plain": [
              "instant        0\n",
              "dteday         0\n",
              "season         0\n",
              "yr             0\n",
              "mnth           0\n",
              "holiday        0\n",
              "weekday        0\n",
              "workingday     0\n",
              "weathersit     0\n",
              "temp           0\n",
              "atemp         24\n",
              "hum           25\n",
              "windspeed     12\n",
              "casual        10\n",
              "registered    11\n",
              "cnt            0\n",
              "dtype: int64"
            ]
          },
          "metadata": {},
          "execution_count": 15
        }
      ]
    },
    {
      "cell_type": "code",
      "source": [
        "# 한 컬럼이라도 결측치가 있는 행 제거\n",
        "df_drop_any = df.dropna(how='any')\n",
        "\n",
        "df_drop_any.isnull().sum()"
      ],
      "metadata": {
        "colab": {
          "base_uri": "https://localhost:8080/"
        },
        "id": "dEFb52XED6wo",
        "outputId": "d6b2366f-5dc4-4b61-e64f-23fbbef7f737"
      },
      "execution_count": null,
      "outputs": [
        {
          "output_type": "execute_result",
          "data": {
            "text/plain": [
              "instant       0\n",
              "dteday        0\n",
              "season        0\n",
              "yr            0\n",
              "mnth          0\n",
              "holiday       0\n",
              "weekday       0\n",
              "workingday    0\n",
              "weathersit    0\n",
              "temp          0\n",
              "atemp         0\n",
              "hum           0\n",
              "windspeed     0\n",
              "casual        0\n",
              "registered    0\n",
              "cnt           0\n",
              "dtype: int64"
            ]
          },
          "metadata": {},
          "execution_count": 16
        }
      ]
    },
    {
      "cell_type": "code",
      "source": [
        "## 결측값 기본 대치 방법들\n",
        "\n",
        "# 특정값(0)으로 대치 - 전체 컬럼\n",
        "df_0_all = df.fillna(0)\n",
        "\n",
        "# 특정값(0)으로 대치 - 컬럼 지정\n",
        "df_0_slt = df.fillna({'temp':0})\n",
        "\n",
        "# 평균값 대치 - 전체 컬럼\n",
        "df_mean_all = df.fillna(df.mean())\n",
        "\n",
        "# 평균값 대치 - 컬럼 지정\n",
        "df_mean_slt = df.fillna({'temp':df['temp'].mean()})\n",
        "\n",
        "# 중앙값 대치 - 전체 컬럼\n",
        "df_median_all = df.fillna(df.median())\n",
        "\n",
        "# 중앙값 대치 - 컬럼 지정\n",
        "df_median_slt = df.fillna({'temp':df['temp'].median()})\n",
        "\n",
        "# 최빈값 대치 - 전체 컬럼\n",
        "df_mode_all = df.fillna(df.mode())\n",
        "\n",
        "# 최빈값 대치 - 컬럼 지정\n",
        "df_mode_slt = df.fillna({'temp':df['temp'].mode()})\n",
        "\n",
        "# 최댓값 대치 - 전체 컬럼\n",
        "df_max_all = df.fillna(df.max())\n",
        "\n",
        "# 최댓값 대치 - 컬럼 지정\n",
        "df_max_slt = df.fillna({'temp':df['temp'].max()})\n",
        "\n",
        "# 최솟값 대치 - 전체 컬럼\n",
        "df_min_all = df.fillna(df.min())\n",
        "\n",
        "# 최솟값 대치 - 컬럼 지정\n",
        "df_min_slt = df.fillna({'temp':df['temp'],'hum':df['hum'].min()})\n",
        "\n",
        "\n",
        "df_min_slt.isnull().sum()"
      ],
      "metadata": {
        "colab": {
          "base_uri": "https://localhost:8080/"
        },
        "id": "zNusZmzVEDp4",
        "outputId": "74c4b753-57a2-4ae7-948c-b17961957b80"
      },
      "execution_count": null,
      "outputs": [
        {
          "output_type": "stream",
          "name": "stderr",
          "text": [
            "<ipython-input-17-ecf54436e061>:10: FutureWarning: Dropping of nuisance columns in DataFrame reductions (with 'numeric_only=None') is deprecated; in a future version this will raise TypeError.  Select only valid columns before calling the reduction.\n",
            "  df_mean_all = df.fillna(df.mean())\n",
            "<ipython-input-17-ecf54436e061>:16: FutureWarning: Dropping of nuisance columns in DataFrame reductions (with 'numeric_only=None') is deprecated; in a future version this will raise TypeError.  Select only valid columns before calling the reduction.\n",
            "  df_median_all = df.fillna(df.median())\n"
          ]
        },
        {
          "output_type": "execute_result",
          "data": {
            "text/plain": [
              "instant        0\n",
              "dteday         0\n",
              "season         0\n",
              "yr             0\n",
              "mnth           0\n",
              "holiday        0\n",
              "weekday        0\n",
              "workingday     0\n",
              "weathersit     0\n",
              "temp          17\n",
              "atemp         24\n",
              "hum            0\n",
              "windspeed     13\n",
              "casual        11\n",
              "registered    11\n",
              "cnt            0\n",
              "dtype: int64"
            ]
          },
          "metadata": {},
          "execution_count": 17
        }
      ]
    },
    {
      "cell_type": "markdown",
      "source": [
        "#2. 이상치 처리\n",
        "\n",
        "이상치란 일부 관측치의 값이 전체 데이터의 범위를 뛰어넘는 값을 의미합니다. 아주 작거나 아주 크거나 딱 봐도 이상한 값(99999999 등)을 나타냅니다.\n",
        "\n",
        "이상치는 해당값을 결측값으로 대체한 다음 결측치처리를 할수도 있고, 해당 이상치를 제거하는 방법을 사용합니다.\n",
        "\n",
        "관측값을 상한값을 두어서 변경할수도 있고, 가중치를 조정하는 방법도 사용합니다.\n",
        "\n",
        "이상치의 파악은 EDA나 데이터시각화, 박스플롯등으로 파악할 수 있고, 분석 도메인을 그만큼 잘 숙지해야하며, 또한 기본적인 데이터에 대한 생각을 잘 해야합니다. 예를 들어 200세가 넘는 데이터가 있다던가 자산이 100조원이 넘는 사람이라던가 이런 데이터에 대해 의심하는 습관을 들여야 합니다."
      ],
      "metadata": {
        "id": "oLQqWkh_Ehy_"
      }
    },
    {
      "cell_type": "code",
      "source": [
        "import numpy as np\n",
        "import matplotlib.pyplot as plt\n",
        "\n",
        "# 데이터 셋 생성\n",
        "data = np.array([12, 15, 14, 13, 16, 14, 18, 15, 1000, 17, 16])\n",
        "\n",
        "# 평균과 표준편차 계산\n",
        "mean = np.mean(data)\n",
        "std_dev = np.std(data)\n",
        "\n",
        "# z 점수 계산 (각 값에서 평균을 빼고 표준편차로 나눔)\n",
        "z_scores = (data - mean) / std_dev\n",
        "\n",
        "# 이상치를 찾기 위한 임계값 설정 (보통 절대값 3 이상을 이상치로 간주)\n",
        "threshold = 3\n",
        "outliers = np.where(np.abs(z_scores) > threshold)\n",
        "\n",
        "# 데이터 시각화\n",
        "plt.figure(figsize=(10, 5))\n",
        "plt.plot(data, 'bo-', label='data')\n",
        "plt.plot(outliers, data[outliers], 'ro', ms=10, label='outliers')\n",
        "plt.xlabel('Index')\n",
        "plt.ylabel('Value')\n",
        "plt.legend()\n",
        "plt.show()\n"
      ],
      "metadata": {
        "id": "naK4o_75ENjx"
      },
      "execution_count": null,
      "outputs": []
    },
    {
      "cell_type": "markdown",
      "source": [
        "위 코드는 먼저 1%의 이상치 개수를 계산하고, 그 개수를 제외한 나머지를 정규 분포로부터 생성합니다. 그 후 이상치를 -100에서 300 사이의 값으로 설정하고, 이를 모든 데이터와 합칩니다. 결과적으로 이상치는 주어진 범위 내에서 무작위로 분포하게 됩니다. 이는 이상치의 정의와 특성에 따라 변경될 수 있습니다. 이 방법은 이상치가 정규 분포의 꼬리에 놓인 것처럼 보이게 하므로, 이상치 검출 알고리즘이 이를 찾아내는지 확인하는 데 유용할 수 있습니다."
      ],
      "metadata": {
        "id": "WJwKppjjGKsX"
      }
    },
    {
      "cell_type": "code",
      "source": [
        "import numpy as np\n",
        "import pandas as pd\n",
        "\n",
        "# 데이터셋 설정\n",
        "n = 1000  # 전체 데이터 개수\n",
        "outlier_fraction = 0.1  # 이상치 비율\n",
        "\n",
        "# 이상치 개수 계산\n",
        "n_outliers = int(n * outlier_fraction)\n",
        "\n",
        "# 정상 데이터와 이상치 생성\n",
        "normal_data = np.random.randint(low=50, high=150, size=n - n_outliers)  # 50에서 150 사이의 정수에서 샘플링\n",
        "outliers = np.random.randint(low=-100, high=200, size=n_outliers)  # -100에서 300 사이의 정수에서 샘플링\n",
        "\n",
        "# 데이터 결합\n",
        "data = np.concatenate([normal_data, outliers])\n",
        "\n",
        "# 데이터프레임으로 변환\n",
        "df = pd.DataFrame(data, columns=['Data'])"
      ],
      "metadata": {
        "id": "PA8FC_IJFC3H"
      },
      "execution_count": null,
      "outputs": []
    },
    {
      "cell_type": "code",
      "source": [
        "df"
      ],
      "metadata": {
        "colab": {
          "base_uri": "https://localhost:8080/",
          "height": 444
        },
        "id": "s1NM9gejGJHA",
        "outputId": "71fc7aef-2b37-474d-9e2e-d450b2ee456e"
      },
      "execution_count": null,
      "outputs": [
        {
          "output_type": "execute_result",
          "data": {
            "text/plain": [
              "     Data\n",
              "0      79\n",
              "1     147\n",
              "2      63\n",
              "3      69\n",
              "4      91\n",
              "..    ...\n",
              "995   -32\n",
              "996   -64\n",
              "997   -76\n",
              "998   117\n",
              "999   190\n",
              "\n",
              "[1000 rows x 1 columns]"
            ],
            "text/html": [
              "\n",
              "  <div id=\"df-5921aacf-a0a5-4bba-aae3-1f398005fdb7\">\n",
              "    <div class=\"colab-df-container\">\n",
              "      <div>\n",
              "<style scoped>\n",
              "    .dataframe tbody tr th:only-of-type {\n",
              "        vertical-align: middle;\n",
              "    }\n",
              "\n",
              "    .dataframe tbody tr th {\n",
              "        vertical-align: top;\n",
              "    }\n",
              "\n",
              "    .dataframe thead th {\n",
              "        text-align: right;\n",
              "    }\n",
              "</style>\n",
              "<table border=\"1\" class=\"dataframe\">\n",
              "  <thead>\n",
              "    <tr style=\"text-align: right;\">\n",
              "      <th></th>\n",
              "      <th>Data</th>\n",
              "    </tr>\n",
              "  </thead>\n",
              "  <tbody>\n",
              "    <tr>\n",
              "      <th>0</th>\n",
              "      <td>79</td>\n",
              "    </tr>\n",
              "    <tr>\n",
              "      <th>1</th>\n",
              "      <td>147</td>\n",
              "    </tr>\n",
              "    <tr>\n",
              "      <th>2</th>\n",
              "      <td>63</td>\n",
              "    </tr>\n",
              "    <tr>\n",
              "      <th>3</th>\n",
              "      <td>69</td>\n",
              "    </tr>\n",
              "    <tr>\n",
              "      <th>4</th>\n",
              "      <td>91</td>\n",
              "    </tr>\n",
              "    <tr>\n",
              "      <th>...</th>\n",
              "      <td>...</td>\n",
              "    </tr>\n",
              "    <tr>\n",
              "      <th>995</th>\n",
              "      <td>-32</td>\n",
              "    </tr>\n",
              "    <tr>\n",
              "      <th>996</th>\n",
              "      <td>-64</td>\n",
              "    </tr>\n",
              "    <tr>\n",
              "      <th>997</th>\n",
              "      <td>-76</td>\n",
              "    </tr>\n",
              "    <tr>\n",
              "      <th>998</th>\n",
              "      <td>117</td>\n",
              "    </tr>\n",
              "    <tr>\n",
              "      <th>999</th>\n",
              "      <td>190</td>\n",
              "    </tr>\n",
              "  </tbody>\n",
              "</table>\n",
              "<p>1000 rows × 1 columns</p>\n",
              "</div>\n",
              "      <button class=\"colab-df-convert\" onclick=\"convertToInteractive('df-5921aacf-a0a5-4bba-aae3-1f398005fdb7')\"\n",
              "              title=\"Convert this dataframe to an interactive table.\"\n",
              "              style=\"display:none;\">\n",
              "        \n",
              "  <svg xmlns=\"http://www.w3.org/2000/svg\" height=\"24px\"viewBox=\"0 0 24 24\"\n",
              "       width=\"24px\">\n",
              "    <path d=\"M0 0h24v24H0V0z\" fill=\"none\"/>\n",
              "    <path d=\"M18.56 5.44l.94 2.06.94-2.06 2.06-.94-2.06-.94-.94-2.06-.94 2.06-2.06.94zm-11 1L8.5 8.5l.94-2.06 2.06-.94-2.06-.94L8.5 2.5l-.94 2.06-2.06.94zm10 10l.94 2.06.94-2.06 2.06-.94-2.06-.94-.94-2.06-.94 2.06-2.06.94z\"/><path d=\"M17.41 7.96l-1.37-1.37c-.4-.4-.92-.59-1.43-.59-.52 0-1.04.2-1.43.59L10.3 9.45l-7.72 7.72c-.78.78-.78 2.05 0 2.83L4 21.41c.39.39.9.59 1.41.59.51 0 1.02-.2 1.41-.59l7.78-7.78 2.81-2.81c.8-.78.8-2.07 0-2.86zM5.41 20L4 18.59l7.72-7.72 1.47 1.35L5.41 20z\"/>\n",
              "  </svg>\n",
              "      </button>\n",
              "      \n",
              "  <style>\n",
              "    .colab-df-container {\n",
              "      display:flex;\n",
              "      flex-wrap:wrap;\n",
              "      gap: 12px;\n",
              "    }\n",
              "\n",
              "    .colab-df-convert {\n",
              "      background-color: #E8F0FE;\n",
              "      border: none;\n",
              "      border-radius: 50%;\n",
              "      cursor: pointer;\n",
              "      display: none;\n",
              "      fill: #1967D2;\n",
              "      height: 32px;\n",
              "      padding: 0 0 0 0;\n",
              "      width: 32px;\n",
              "    }\n",
              "\n",
              "    .colab-df-convert:hover {\n",
              "      background-color: #E2EBFA;\n",
              "      box-shadow: 0px 1px 2px rgba(60, 64, 67, 0.3), 0px 1px 3px 1px rgba(60, 64, 67, 0.15);\n",
              "      fill: #174EA6;\n",
              "    }\n",
              "\n",
              "    [theme=dark] .colab-df-convert {\n",
              "      background-color: #3B4455;\n",
              "      fill: #D2E3FC;\n",
              "    }\n",
              "\n",
              "    [theme=dark] .colab-df-convert:hover {\n",
              "      background-color: #434B5C;\n",
              "      box-shadow: 0px 1px 3px 1px rgba(0, 0, 0, 0.15);\n",
              "      filter: drop-shadow(0px 1px 2px rgba(0, 0, 0, 0.3));\n",
              "      fill: #FFFFFF;\n",
              "    }\n",
              "  </style>\n",
              "\n",
              "      <script>\n",
              "        const buttonEl =\n",
              "          document.querySelector('#df-5921aacf-a0a5-4bba-aae3-1f398005fdb7 button.colab-df-convert');\n",
              "        buttonEl.style.display =\n",
              "          google.colab.kernel.accessAllowed ? 'block' : 'none';\n",
              "\n",
              "        async function convertToInteractive(key) {\n",
              "          const element = document.querySelector('#df-5921aacf-a0a5-4bba-aae3-1f398005fdb7');\n",
              "          const dataTable =\n",
              "            await google.colab.kernel.invokeFunction('convertToInteractive',\n",
              "                                                     [key], {});\n",
              "          if (!dataTable) return;\n",
              "\n",
              "          const docLinkHtml = 'Like what you see? Visit the ' +\n",
              "            '<a target=\"_blank\" href=https://colab.research.google.com/notebooks/data_table.ipynb>data table notebook</a>'\n",
              "            + ' to learn more about interactive tables.';\n",
              "          element.innerHTML = '';\n",
              "          dataTable['output_type'] = 'display_data';\n",
              "          await google.colab.output.renderOutput(dataTable, element);\n",
              "          const docLink = document.createElement('div');\n",
              "          docLink.innerHTML = docLinkHtml;\n",
              "          element.appendChild(docLink);\n",
              "        }\n",
              "      </script>\n",
              "    </div>\n",
              "  </div>\n",
              "  "
            ]
          },
          "metadata": {},
          "execution_count": 20
        }
      ]
    },
    {
      "cell_type": "code",
      "source": [
        "# 딱 봐도 이상한 데이터셋\n",
        "df['Data'].describe()"
      ],
      "metadata": {
        "colab": {
          "base_uri": "https://localhost:8080/"
        },
        "id": "l_9ZJKPXGOYN",
        "outputId": "1dafa372-e91a-412d-ff7c-b4d226fe568a"
      },
      "execution_count": null,
      "outputs": [
        {
          "output_type": "execute_result",
          "data": {
            "text/plain": [
              "count    1000.000000\n",
              "mean       94.749000\n",
              "std        39.469632\n",
              "min       -94.000000\n",
              "25%        71.000000\n",
              "50%        96.000000\n",
              "75%       124.000000\n",
              "max       199.000000\n",
              "Name: Data, dtype: float64"
            ]
          },
          "metadata": {},
          "execution_count": 21
        }
      ]
    },
    {
      "cell_type": "code",
      "source": [
        "import seaborn as sns\n",
        "# BMI 컬럼의 박스플롯 시각화를 통한 이상치 확인\n",
        "\n",
        "plt.figure(figsize = (8, 6))\n",
        "sns.boxplot(y = 'Data', data = df)\n",
        "plt.show()"
      ],
      "metadata": {
        "id": "-VoZXDF2GpDc"
      },
      "execution_count": null,
      "outputs": []
    },
    {
      "cell_type": "code",
      "source": [
        "# BMI 컬럼의 이상치 제거 (IQR*3)\n",
        "\n",
        "# Q!, Q3 범위 정의\n",
        "Q1 = df['Data'].quantile(0.25)\n",
        "Q3 = df['Data'].quantile(0.75)\n",
        "IQR = Q3 - Q1    #IQR 범위.\n",
        "rev_range = 3  # 제거 범위 조절 변수 설정\n",
        "\n",
        "# 이상치 범위 설정\n",
        "filter = (df['Data'] >= Q1 - rev_range * IQR) & (df['Data'] <= Q3 + rev_range *IQR)\n",
        "df_rmv = df.loc[filter]\n",
        "print(df['Data'].describe())\n",
        "print(df_rmv['Data'].describe())"
      ],
      "metadata": {
        "colab": {
          "base_uri": "https://localhost:8080/"
        },
        "id": "u5RPYvFuG9bv",
        "outputId": "a39ad0bc-bba2-4ae5-9a82-f089213eb7c4"
      },
      "execution_count": null,
      "outputs": [
        {
          "output_type": "stream",
          "name": "stdout",
          "text": [
            "count    1000.000000\n",
            "mean       94.749000\n",
            "std        39.469632\n",
            "min       -94.000000\n",
            "25%        71.000000\n",
            "50%        96.000000\n",
            "75%       124.000000\n",
            "max       199.000000\n",
            "Name: Data, dtype: float64\n",
            "count    999.000000\n",
            "mean      94.937938\n",
            "std       39.034338\n",
            "min      -85.000000\n",
            "25%       71.000000\n",
            "50%       96.000000\n",
            "75%      124.000000\n",
            "max      199.000000\n",
            "Name: Data, dtype: float64\n"
          ]
        }
      ]
    },
    {
      "cell_type": "code",
      "source": [
        "# 이상치 제거 후 박스플롯 시각화\n",
        "\n",
        "plt.figure(figsize = (8, 6))\n",
        "sns.boxplot(y = 'Data', data = df_rmv)\n",
        "plt.show()"
      ],
      "metadata": {
        "id": "HIkOiGJdHHXf"
      },
      "execution_count": null,
      "outputs": []
    },
    {
      "cell_type": "code",
      "source": [
        "# 다음과 같은 방식도 있고, 너무 극도의 이상치인 경우 if문 등으로도 제외해도 됩니다.\n",
        "# 그에 따른 타당성이나 이력을 남기는것은 필수 입니다."
      ],
      "metadata": {
        "id": "dzFLPh6kHT0R"
      },
      "execution_count": null,
      "outputs": []
    },
    {
      "cell_type": "markdown",
      "source": [
        "#3. 변수 구간화(Varaible Binning)\n",
        "\n",
        "나이와 같은 데이터의 경우 나이를 그대로 사용하는 경우도 있지만 구간을 나눠서 10대, 20대, 30대 등으로 묶어서 사용하기 합니다.\n",
        "\n",
        "이러한 데이터 구간화는 향후 데이터 EDA를 풍성하게 할 수 있고, 분석의 양을 줄일 수도 있습니다.\n",
        "\n",
        "이산형 변수를 범주형 변수로 바꿀때는 이 변수가 비즈니스적으로 해석, 예측시 필수적인가를 고려하고\n",
        "구간화를 균일하게 했는가를 잘 파악해야합니다.\n",
        "\n",
        "우리는 보통 WOE(Weight of Evidence)나 IV값을 통해(information Value) 측정할 수 있습니다. IV가 높을수록 종속변수를 잘 구분할 수 있다 라는 의미이므로, 구간화가 잘되면 IV값이 높아질수밖에 없습니다."
      ],
      "metadata": {
        "id": "QjxZA5zOIB6c"
      }
    },
    {
      "cell_type": "code",
      "source": [
        "import numpy as np\n",
        "import pandas as pd\n",
        "\n",
        "np.random.seed(0)\n",
        "\n",
        "# 데이터셋 설정\n",
        "n = 1000  # 전체 데이터 개수\n",
        "default_fraction = 0.1  # 기본값 설정 비율\n",
        "\n",
        "# 이 변수들은 랜덤하게 생성되지만, 실제로는 데이터에 따라 다르게 설정해야 합니다.\n",
        "age = np.random.randint(low=20, high=70, size=n)  # 나이: 20세에서 70세 사이의 정수\n",
        "income = np.random.randint(low=20000, high=100000, size=n)  # 소득: 20000에서 100000 사이의 정수\n",
        "\n",
        "# 기본값 설정을 랜덤하게 결정 (10%가 기본값 설정)\n",
        "default = np.random.choice([0, 1], size=n, p=[1-default_fraction, default_fraction])\n",
        "\n",
        "# 데이터프레임으로 변환\n",
        "df = pd.DataFrame({'Age': age, 'Income': income, 'Default': default})\n",
        "\n",
        "# 데이터프레임 출력\n",
        "print(df.head())\n",
        "#위의 코드는 'Age', 'Income' 그리고 'Default'라는 세 개의 열을 가진 DataFrame을 생성합니다. 'Default' 열은 목표 변수로, 고객이 기본값을 설정했는지 여부를 나타냅니다.\n",
        "\n"
      ],
      "metadata": {
        "colab": {
          "base_uri": "https://localhost:8080/"
        },
        "id": "BZG7q-s3IzxM",
        "outputId": "fa55a1ad-4b66-49b9-da9b-e4bbc6c56c87"
      },
      "execution_count": null,
      "outputs": [
        {
          "output_type": "stream",
          "name": "stdout",
          "text": [
            "   Age  Income  Default\n",
            "0   64   72677        0\n",
            "1   67   22963        0\n",
            "2   20   66870        0\n",
            "3   23   80781        1\n",
            "4   23   60843        0\n"
          ]
        }
      ]
    },
    {
      "cell_type": "code",
      "source": [
        "# BMI 컬럼의 분포 확인\n",
        "\n",
        "df['Age'].describe()"
      ],
      "metadata": {
        "colab": {
          "base_uri": "https://localhost:8080/"
        },
        "id": "UCA-r5m9Jh2i",
        "outputId": "20601caa-eca5-4618-b9d5-e3c1f68981cb"
      },
      "execution_count": null,
      "outputs": [
        {
          "output_type": "execute_result",
          "data": {
            "text/plain": [
              "count    1000.000000\n",
              "mean       44.157000\n",
              "std        14.458402\n",
              "min        20.000000\n",
              "25%        31.000000\n",
              "50%        44.000000\n",
              "75%        56.000000\n",
              "max        69.000000\n",
              "Name: Age, dtype: float64"
            ]
          },
          "metadata": {},
          "execution_count": 27
        }
      ]
    },
    {
      "cell_type": "code",
      "source": [
        "# BMI 컬럼 분포 시각화\n",
        "\n",
        "%matplotlib inline\n",
        "sns.displot(df['Age'])"
      ],
      "metadata": {
        "colab": {
          "base_uri": "https://localhost:8080/",
          "height": 1000
        },
        "id": "AmDH92ZOJo77",
        "outputId": "d0393a5b-275b-4e06-ae80-4de9f556f04b"
      },
      "execution_count": null,
      "outputs": [
        {
          "output_type": "execute_result",
          "data": {
            "text/plain": [
              "<seaborn.axisgrid.FacetGrid at 0x7fa5cd04cd00>"
            ]
          },
          "metadata": {},
          "execution_count": 28
        },
        {
          "output_type": "display_data",
          "data": {
            "text/plain": [
              "<Figure size 1000x500 with 1 Axes>"
            ],
            "image/png": "[encoded data removed]"
          },
          "metadata": {}
        },
        {
          "output_type": "display_data",
          "data": {
            "text/plain": [
              "<Figure size 800x600 with 1 Axes>"
            ],
            "image/png": "[encoded data removed]"
          },
          "metadata": {}
        },
        {
          "output_type": "display_data",
          "data": {
            "text/plain": [
              "<Figure size 800x600 with 1 Axes>"
            ],
            "image/png": "[encoded data removed]"
          },
          "metadata": {}
        },
        {
          "output_type": "display_data",
          "data": {
            "text/plain": [
              "<Figure size 500x500 with 1 Axes>"
            ],
            "image/png": "[encoded data removed]"
          },
          "metadata": {}
        }
      ]
    },
    {
      "cell_type": "code",
      "source": [
        "# 임의로 단순 구간화\n",
        "\n",
        "df1 = df.copy() # 데이터셋 복사\n",
        "\n",
        "# 구간화용 빈 컬럼 생성 - 생략해도 되지만 바로 옆에 붙여 보기 위함\n",
        "df1.insert(2, 'Age_bin', 0)\n",
        "\n",
        "df1.loc[df1['Age'] <= 20, 'Age_bin'] = '1.20_Under'\n",
        "df1.loc[(df1['Age'] > 20) & (df1['Age'] <= 30), 'Age_bin'] = '2.20'\n",
        "df1.loc[(df1['Age'] > 30) & (df1['Age'] <= 40), 'Age_bin'] = '3.30'\n",
        "df1.loc[(df1['Age'] > 40) & (df1['Age'] <= 50), 'Age_bin'] = '4.40'\n",
        "df1.loc[(df1['Age'] > 50) & (df1['Age'] <= 60), 'Age_bin'] = '5.50'\n",
        "df1.loc[df1['Age'] > 60, 'Age_bin'] = '6.60_Upper'\n",
        "\n",
        "df1.head()"
      ],
      "metadata": {
        "colab": {
          "base_uri": "https://localhost:8080/",
          "height": 226
        },
        "id": "_-QBkb8bJrMv",
        "outputId": "d9b35334-d12b-415a-cd9a-6358b7d61fe9"
      },
      "execution_count": null,
      "outputs": [
        {
          "output_type": "execute_result",
          "data": {
            "text/plain": [
              "   Age  Income     Age_bin  Default\n",
              "0   64   72677  6.60_Upper        0\n",
              "1   67   22963  6.60_Upper        0\n",
              "2   20   66870  1.20_Under        0\n",
              "3   23   80781        2.20        1\n",
              "4   23   60843        2.20        0"
            ],
            "text/html": [
              "\n",
              "  <div id=\"df-8e6240a3-e7b4-4274-962a-d5c6ca79d6ad\">\n",
              "    <div class=\"colab-df-container\">\n",
              "      <div>\n",
              "<style scoped>\n",
              "    .dataframe tbody tr th:only-of-type {\n",
              "        vertical-align: middle;\n",
              "    }\n",
              "\n",
              "    .dataframe tbody tr th {\n",
              "        vertical-align: top;\n",
              "    }\n",
              "\n",
              "    .dataframe thead th {\n",
              "        text-align: right;\n",
              "    }\n",
              "</style>\n",
              "<table border=\"1\" class=\"dataframe\">\n",
              "  <thead>\n",
              "    <tr style=\"text-align: right;\">\n",
              "      <th></th>\n",
              "      <th>Age</th>\n",
              "      <th>Income</th>\n",
              "      <th>Age_bin</th>\n",
              "      <th>Default</th>\n",
              "    </tr>\n",
              "  </thead>\n",
              "  <tbody>\n",
              "    <tr>\n",
              "      <th>0</th>\n",
              "      <td>64</td>\n",
              "      <td>72677</td>\n",
              "      <td>6.60_Upper</td>\n",
              "      <td>0</td>\n",
              "    </tr>\n",
              "    <tr>\n",
              "      <th>1</th>\n",
              "      <td>67</td>\n",
              "      <td>22963</td>\n",
              "      <td>6.60_Upper</td>\n",
              "      <td>0</td>\n",
              "    </tr>\n",
              "    <tr>\n",
              "      <th>2</th>\n",
              "      <td>20</td>\n",
              "      <td>66870</td>\n",
              "      <td>1.20_Under</td>\n",
              "      <td>0</td>\n",
              "    </tr>\n",
              "    <tr>\n",
              "      <th>3</th>\n",
              "      <td>23</td>\n",
              "      <td>80781</td>\n",
              "      <td>2.20</td>\n",
              "      <td>1</td>\n",
              "    </tr>\n",
              "    <tr>\n",
              "      <th>4</th>\n",
              "      <td>23</td>\n",
              "      <td>60843</td>\n",
              "      <td>2.20</td>\n",
              "      <td>0</td>\n",
              "    </tr>\n",
              "  </tbody>\n",
              "</table>\n",
              "</div>\n",
              "      <button class=\"colab-df-convert\" onclick=\"convertToInteractive('df-8e6240a3-e7b4-4274-962a-d5c6ca79d6ad')\"\n",
              "              title=\"Convert this dataframe to an interactive table.\"\n",
              "              style=\"display:none;\">\n",
              "        \n",
              "  <svg xmlns=\"http://www.w3.org/2000/svg\" height=\"24px\"viewBox=\"0 0 24 24\"\n",
              "       width=\"24px\">\n",
              "    <path d=\"M0 0h24v24H0V0z\" fill=\"none\"/>\n",
              "    <path d=\"M18.56 5.44l.94 2.06.94-2.06 2.06-.94-2.06-.94-.94-2.06-.94 2.06-2.06.94zm-11 1L8.5 8.5l.94-2.06 2.06-.94-2.06-.94L8.5 2.5l-.94 2.06-2.06.94zm10 10l.94 2.06.94-2.06 2.06-.94-2.06-.94-.94-2.06-.94 2.06-2.06.94z\"/><path d=\"M17.41 7.96l-1.37-1.37c-.4-.4-.92-.59-1.43-.59-.52 0-1.04.2-1.43.59L10.3 9.45l-7.72 7.72c-.78.78-.78 2.05 0 2.83L4 21.41c.39.39.9.59 1.41.59.51 0 1.02-.2 1.41-.59l7.78-7.78 2.81-2.81c.8-.78.8-2.07 0-2.86zM5.41 20L4 18.59l7.72-7.72 1.47 1.35L5.41 20z\"/>\n",
              "  </svg>\n",
              "      </button>\n",
              "      \n",
              "  <style>\n",
              "    .colab-df-container {\n",
              "      display:flex;\n",
              "      flex-wrap:wrap;\n",
              "      gap: 12px;\n",
              "    }\n",
              "\n",
              "    .colab-df-convert {\n",
              "      background-color: #E8F0FE;\n",
              "      border: none;\n",
              "      border-radius: 50%;\n",
              "      cursor: pointer;\n",
              "      display: none;\n",
              "      fill: #1967D2;\n",
              "      height: 32px;\n",
              "      padding: 0 0 0 0;\n",
              "      width: 32px;\n",
              "    }\n",
              "\n",
              "    .colab-df-convert:hover {\n",
              "      background-color: #E2EBFA;\n",
              "      box-shadow: 0px 1px 2px rgba(60, 64, 67, 0.3), 0px 1px 3px 1px rgba(60, 64, 67, 0.15);\n",
              "      fill: #174EA6;\n",
              "    }\n",
              "\n",
              "    [theme=dark] .colab-df-convert {\n",
              "      background-color: #3B4455;\n",
              "      fill: #D2E3FC;\n",
              "    }\n",
              "\n",
              "    [theme=dark] .colab-df-convert:hover {\n",
              "      background-color: #434B5C;\n",
              "      box-shadow: 0px 1px 3px 1px rgba(0, 0, 0, 0.15);\n",
              "      filter: drop-shadow(0px 1px 2px rgba(0, 0, 0, 0.3));\n",
              "      fill: #FFFFFF;\n",
              "    }\n",
              "  </style>\n",
              "\n",
              "      <script>\n",
              "        const buttonEl =\n",
              "          document.querySelector('#df-8e6240a3-e7b4-4274-962a-d5c6ca79d6ad button.colab-df-convert');\n",
              "        buttonEl.style.display =\n",
              "          google.colab.kernel.accessAllowed ? 'block' : 'none';\n",
              "\n",
              "        async function convertToInteractive(key) {\n",
              "          const element = document.querySelector('#df-8e6240a3-e7b4-4274-962a-d5c6ca79d6ad');\n",
              "          const dataTable =\n",
              "            await google.colab.kernel.invokeFunction('convertToInteractive',\n",
              "                                                     [key], {});\n",
              "          if (!dataTable) return;\n",
              "\n",
              "          const docLinkHtml = 'Like what you see? Visit the ' +\n",
              "            '<a target=\"_blank\" href=https://colab.research.google.com/notebooks/data_table.ipynb>data table notebook</a>'\n",
              "            + ' to learn more about interactive tables.';\n",
              "          element.innerHTML = '';\n",
              "          dataTable['output_type'] = 'display_data';\n",
              "          await google.colab.output.renderOutput(dataTable, element);\n",
              "          const docLink = document.createElement('div');\n",
              "          docLink.innerHTML = docLinkHtml;\n",
              "          element.appendChild(docLink);\n",
              "        }\n",
              "      </script>\n",
              "    </div>\n",
              "  </div>\n",
              "  "
            ]
          },
          "metadata": {},
          "execution_count": 29
        }
      ]
    },
    {
      "cell_type": "code",
      "source": [
        "# 구간화 변수 분포 시각화\n",
        "\n",
        "sns.displot(df1['Age_bin'],height = 5, aspect = 3)"
      ],
      "metadata": {
        "colab": {
          "base_uri": "https://localhost:8080/",
          "height": 262
        },
        "id": "yVpUq3WmKT6-",
        "outputId": "ff5b48b8-b464-4098-a5e5-ae71f795da9d"
      },
      "execution_count": null,
      "outputs": [
        {
          "output_type": "execute_result",
          "data": {
            "text/plain": [
              "<seaborn.axisgrid.FacetGrid at 0x7fa5ccb0b4c0>"
            ]
          },
          "metadata": {},
          "execution_count": 30
        },
        {
          "output_type": "display_data",
          "data": {
            "text/plain": [
              "<Figure size 1500x500 with 1 Axes>"
            ],
            "image/png": "[encoded data removed]"
          },
          "metadata": {}
        }
      ]
    },
    {
      "cell_type": "code",
      "source": [
        "#  cut() 함수 사용하여 임의로 구간화\n",
        "df1.insert(3, 'Age_bin2', 0) # 구간화용 빈 컬럼 생성\n",
        "\n",
        "df1['Age_bin2'] = pd.cut(df1.Age, bins=[0, 7, 19, 34, 49, 60, 100]\n",
        "                         , labels=['a', 'b', 'c', 'd', 'e', 'f'])\n",
        "\n",
        "df1.head()"
      ],
      "metadata": {
        "colab": {
          "base_uri": "https://localhost:8080/",
          "height": 226
        },
        "id": "47fBVrV-KZXO",
        "outputId": "b2b17225-f1ed-4faa-8791-385c6e8038b6"
      },
      "execution_count": null,
      "outputs": [
        {
          "output_type": "execute_result",
          "data": {
            "text/plain": [
              "   Age  Income     Age_bin Age_bin2  Default\n",
              "0   64   72677  6.60_Upper        f        0\n",
              "1   67   22963  6.60_Upper        f        0\n",
              "2   20   66870  1.20_Under        c        0\n",
              "3   23   80781        2.20        c        1\n",
              "4   23   60843        2.20        c        0"
            ],
            "text/html": [
              "\n",
              "  <div id=\"df-ea9d116b-6b52-4712-b525-609364d85305\">\n",
              "    <div class=\"colab-df-container\">\n",
              "      <div>\n",
              "<style scoped>\n",
              "    .dataframe tbody tr th:only-of-type {\n",
              "        vertical-align: middle;\n",
              "    }\n",
              "\n",
              "    .dataframe tbody tr th {\n",
              "        vertical-align: top;\n",
              "    }\n",
              "\n",
              "    .dataframe thead th {\n",
              "        text-align: right;\n",
              "    }\n",
              "</style>\n",
              "<table border=\"1\" class=\"dataframe\">\n",
              "  <thead>\n",
              "    <tr style=\"text-align: right;\">\n",
              "      <th></th>\n",
              "      <th>Age</th>\n",
              "      <th>Income</th>\n",
              "      <th>Age_bin</th>\n",
              "      <th>Age_bin2</th>\n",
              "      <th>Default</th>\n",
              "    </tr>\n",
              "  </thead>\n",
              "  <tbody>\n",
              "    <tr>\n",
              "      <th>0</th>\n",
              "      <td>64</td>\n",
              "      <td>72677</td>\n",
              "      <td>6.60_Upper</td>\n",
              "      <td>f</td>\n",
              "      <td>0</td>\n",
              "    </tr>\n",
              "    <tr>\n",
              "      <th>1</th>\n",
              "      <td>67</td>\n",
              "      <td>22963</td>\n",
              "      <td>6.60_Upper</td>\n",
              "      <td>f</td>\n",
              "      <td>0</td>\n",
              "    </tr>\n",
              "    <tr>\n",
              "      <th>2</th>\n",
              "      <td>20</td>\n",
              "      <td>66870</td>\n",
              "      <td>1.20_Under</td>\n",
              "      <td>c</td>\n",
              "      <td>0</td>\n",
              "    </tr>\n",
              "    <tr>\n",
              "      <th>3</th>\n",
              "      <td>23</td>\n",
              "      <td>80781</td>\n",
              "      <td>2.20</td>\n",
              "      <td>c</td>\n",
              "      <td>1</td>\n",
              "    </tr>\n",
              "    <tr>\n",
              "      <th>4</th>\n",
              "      <td>23</td>\n",
              "      <td>60843</td>\n",
              "      <td>2.20</td>\n",
              "      <td>c</td>\n",
              "      <td>0</td>\n",
              "    </tr>\n",
              "  </tbody>\n",
              "</table>\n",
              "</div>\n",
              "      <button class=\"colab-df-convert\" onclick=\"convertToInteractive('df-ea9d116b-6b52-4712-b525-609364d85305')\"\n",
              "              title=\"Convert this dataframe to an interactive table.\"\n",
              "              style=\"display:none;\">\n",
              "        \n",
              "  <svg xmlns=\"http://www.w3.org/2000/svg\" height=\"24px\"viewBox=\"0 0 24 24\"\n",
              "       width=\"24px\">\n",
              "    <path d=\"M0 0h24v24H0V0z\" fill=\"none\"/>\n",
              "    <path d=\"M18.56 5.44l.94 2.06.94-2.06 2.06-.94-2.06-.94-.94-2.06-.94 2.06-2.06.94zm-11 1L8.5 8.5l.94-2.06 2.06-.94-2.06-.94L8.5 2.5l-.94 2.06-2.06.94zm10 10l.94 2.06.94-2.06 2.06-.94-2.06-.94-.94-2.06-.94 2.06-2.06.94z\"/><path d=\"M17.41 7.96l-1.37-1.37c-.4-.4-.92-.59-1.43-.59-.52 0-1.04.2-1.43.59L10.3 9.45l-7.72 7.72c-.78.78-.78 2.05 0 2.83L4 21.41c.39.39.9.59 1.41.59.51 0 1.02-.2 1.41-.59l7.78-7.78 2.81-2.81c.8-.78.8-2.07 0-2.86zM5.41 20L4 18.59l7.72-7.72 1.47 1.35L5.41 20z\"/>\n",
              "  </svg>\n",
              "      </button>\n",
              "      \n",
              "  <style>\n",
              "    .colab-df-container {\n",
              "      display:flex;\n",
              "      flex-wrap:wrap;\n",
              "      gap: 12px;\n",
              "    }\n",
              "\n",
              "    .colab-df-convert {\n",
              "      background-color: #E8F0FE;\n",
              "      border: none;\n",
              "      border-radius: 50%;\n",
              "      cursor: pointer;\n",
              "      display: none;\n",
              "      fill: #1967D2;\n",
              "      height: 32px;\n",
              "      padding: 0 0 0 0;\n",
              "      width: 32px;\n",
              "    }\n",
              "\n",
              "    .colab-df-convert:hover {\n",
              "      background-color: #E2EBFA;\n",
              "      box-shadow: 0px 1px 2px rgba(60, 64, 67, 0.3), 0px 1px 3px 1px rgba(60, 64, 67, 0.15);\n",
              "      fill: #174EA6;\n",
              "    }\n",
              "\n",
              "    [theme=dark] .colab-df-convert {\n",
              "      background-color: #3B4455;\n",
              "      fill: #D2E3FC;\n",
              "    }\n",
              "\n",
              "    [theme=dark] .colab-df-convert:hover {\n",
              "      background-color: #434B5C;\n",
              "      box-shadow: 0px 1px 3px 1px rgba(0, 0, 0, 0.15);\n",
              "      filter: drop-shadow(0px 1px 2px rgba(0, 0, 0, 0.3));\n",
              "      fill: #FFFFFF;\n",
              "    }\n",
              "  </style>\n",
              "\n",
              "      <script>\n",
              "        const buttonEl =\n",
              "          document.querySelector('#df-ea9d116b-6b52-4712-b525-609364d85305 button.colab-df-convert');\n",
              "        buttonEl.style.display =\n",
              "          google.colab.kernel.accessAllowed ? 'block' : 'none';\n",
              "\n",
              "        async function convertToInteractive(key) {\n",
              "          const element = document.querySelector('#df-ea9d116b-6b52-4712-b525-609364d85305');\n",
              "          const dataTable =\n",
              "            await google.colab.kernel.invokeFunction('convertToInteractive',\n",
              "                                                     [key], {});\n",
              "          if (!dataTable) return;\n",
              "\n",
              "          const docLinkHtml = 'Like what you see? Visit the ' +\n",
              "            '<a target=\"_blank\" href=https://colab.research.google.com/notebooks/data_table.ipynb>data table notebook</a>'\n",
              "            + ' to learn more about interactive tables.';\n",
              "          element.innerHTML = '';\n",
              "          dataTable['output_type'] = 'display_data';\n",
              "          await google.colab.output.renderOutput(dataTable, element);\n",
              "          const docLink = document.createElement('div');\n",
              "          docLink.innerHTML = docLinkHtml;\n",
              "          element.appendChild(docLink);\n",
              "        }\n",
              "      </script>\n",
              "    </div>\n",
              "  </div>\n",
              "  "
            ]
          },
          "metadata": {},
          "execution_count": 31
        }
      ]
    },
    {
      "cell_type": "code",
      "source": [
        "# BMI_bin2 구간 별 관측치 수 집계\n",
        "\n",
        "df1.Age_bin2.value_counts().to_frame().style.background_gradient(cmap='winter')"
      ],
      "metadata": {
        "colab": {
          "base_uri": "https://localhost:8080/",
          "height": 258
        },
        "id": "JdLZKgIPLGic",
        "outputId": "57517d70-e94d-4a1d-cd06-0cc0a6e8f80d"
      },
      "execution_count": null,
      "outputs": [
        {
          "output_type": "execute_result",
          "data": {
            "text/plain": [
              "<pandas.io.formats.style.Styler at 0x7fa5cc727eb0>"
            ],
            "text/html": [
              "<style type=\"text/css\">\n",
              "#T_1e1db_row0_col0 {\n",
              "  background-color: #00ff80;\n",
              "  color: #000000;\n",
              "}\n",
              "#T_1e1db_row1_col0 {\n",
              "  background-color: #00fd80;\n",
              "  color: #000000;\n",
              "}\n",
              "#T_1e1db_row2_col0 {\n",
              "  background-color: #00bca1;\n",
              "  color: #f1f1f1;\n",
              "}\n",
              "#T_1e1db_row3_col0 {\n",
              "  background-color: #008db8;\n",
              "  color: #f1f1f1;\n",
              "}\n",
              "#T_1e1db_row4_col0, #T_1e1db_row5_col0 {\n",
              "  background-color: #0000ff;\n",
              "  color: #f1f1f1;\n",
              "}\n",
              "</style>\n",
              "<table id=\"T_1e1db_\" class=\"dataframe\">\n",
              "  <thead>\n",
              "    <tr>\n",
              "      <th class=\"blank level0\" >&nbsp;</th>\n",
              "      <th class=\"col_heading level0 col0\" >Age_bin2</th>\n",
              "    </tr>\n",
              "  </thead>\n",
              "  <tbody>\n",
              "    <tr>\n",
              "      <th id=\"T_1e1db_level0_row0\" class=\"row_heading level0 row0\" >d</th>\n",
              "      <td id=\"T_1e1db_row0_col0\" class=\"data row0 col0\" >305</td>\n",
              "    </tr>\n",
              "    <tr>\n",
              "      <th id=\"T_1e1db_level0_row1\" class=\"row_heading level0 row1\" >c</th>\n",
              "      <td id=\"T_1e1db_row1_col0\" class=\"data row1 col0\" >302</td>\n",
              "    </tr>\n",
              "    <tr>\n",
              "      <th id=\"T_1e1db_level0_row2\" class=\"row_heading level0 row2\" >e</th>\n",
              "      <td id=\"T_1e1db_row2_col0\" class=\"data row2 col0\" >225</td>\n",
              "    </tr>\n",
              "    <tr>\n",
              "      <th id=\"T_1e1db_level0_row3\" class=\"row_heading level0 row3\" >f</th>\n",
              "      <td id=\"T_1e1db_row3_col0\" class=\"data row3 col0\" >168</td>\n",
              "    </tr>\n",
              "    <tr>\n",
              "      <th id=\"T_1e1db_level0_row4\" class=\"row_heading level0 row4\" >a</th>\n",
              "      <td id=\"T_1e1db_row4_col0\" class=\"data row4 col0\" >0</td>\n",
              "    </tr>\n",
              "    <tr>\n",
              "      <th id=\"T_1e1db_level0_row5\" class=\"row_heading level0 row5\" >b</th>\n",
              "      <td id=\"T_1e1db_row5_col0\" class=\"data row5 col0\" >0</td>\n",
              "    </tr>\n",
              "  </tbody>\n",
              "</table>\n"
            ]
          },
          "metadata": {},
          "execution_count": 32
        }
      ]
    },
    {
      "cell_type": "code",
      "source": [
        "# qcut() 함수 사용하여 자동 구간화\n",
        "df1.insert(4, 'Age_bin3', 0) # 구간화용 빈 컬럼 생성\n",
        "\n",
        "df1['Age_bin3'] = pd.qcut(df1.Age, q=7, labels=['a', 'b', 'c', 'd', 'e', 'f', 'g'])\n",
        "\n",
        "df1.head()"
      ],
      "metadata": {
        "colab": {
          "base_uri": "https://localhost:8080/",
          "height": 226
        },
        "id": "9DJqiQwyLiRJ",
        "outputId": "87692302-926b-4de3-9467-d458c8616ddf"
      },
      "execution_count": null,
      "outputs": [
        {
          "output_type": "execute_result",
          "data": {
            "text/plain": [
              "   Age  Income     Age_bin Age_bin2 Age_bin3  Default\n",
              "0   64   72677  6.60_Upper        f        g        0\n",
              "1   67   22963  6.60_Upper        f        g        0\n",
              "2   20   66870  1.20_Under        c        a        0\n",
              "3   23   80781        2.20        c        a        1\n",
              "4   23   60843        2.20        c        a        0"
            ],
            "text/html": [
              "\n",
              "  <div id=\"df-87863825-4869-491c-881e-d5ffa226d939\">\n",
              "    <div class=\"colab-df-container\">\n",
              "      <div>\n",
              "<style scoped>\n",
              "    .dataframe tbody tr th:only-of-type {\n",
              "        vertical-align: middle;\n",
              "    }\n",
              "\n",
              "    .dataframe tbody tr th {\n",
              "        vertical-align: top;\n",
              "    }\n",
              "\n",
              "    .dataframe thead th {\n",
              "        text-align: right;\n",
              "    }\n",
              "</style>\n",
              "<table border=\"1\" class=\"dataframe\">\n",
              "  <thead>\n",
              "    <tr style=\"text-align: right;\">\n",
              "      <th></th>\n",
              "      <th>Age</th>\n",
              "      <th>Income</th>\n",
              "      <th>Age_bin</th>\n",
              "      <th>Age_bin2</th>\n",
              "      <th>Age_bin3</th>\n",
              "      <th>Default</th>\n",
              "    </tr>\n",
              "  </thead>\n",
              "  <tbody>\n",
              "    <tr>\n",
              "      <th>0</th>\n",
              "      <td>64</td>\n",
              "      <td>72677</td>\n",
              "      <td>6.60_Upper</td>\n",
              "      <td>f</td>\n",
              "      <td>g</td>\n",
              "      <td>0</td>\n",
              "    </tr>\n",
              "    <tr>\n",
              "      <th>1</th>\n",
              "      <td>67</td>\n",
              "      <td>22963</td>\n",
              "      <td>6.60_Upper</td>\n",
              "      <td>f</td>\n",
              "      <td>g</td>\n",
              "      <td>0</td>\n",
              "    </tr>\n",
              "    <tr>\n",
              "      <th>2</th>\n",
              "      <td>20</td>\n",
              "      <td>66870</td>\n",
              "      <td>1.20_Under</td>\n",
              "      <td>c</td>\n",
              "      <td>a</td>\n",
              "      <td>0</td>\n",
              "    </tr>\n",
              "    <tr>\n",
              "      <th>3</th>\n",
              "      <td>23</td>\n",
              "      <td>80781</td>\n",
              "      <td>2.20</td>\n",
              "      <td>c</td>\n",
              "      <td>a</td>\n",
              "      <td>1</td>\n",
              "    </tr>\n",
              "    <tr>\n",
              "      <th>4</th>\n",
              "      <td>23</td>\n",
              "      <td>60843</td>\n",
              "      <td>2.20</td>\n",
              "      <td>c</td>\n",
              "      <td>a</td>\n",
              "      <td>0</td>\n",
              "    </tr>\n",
              "  </tbody>\n",
              "</table>\n",
              "</div>\n",
              "      <button class=\"colab-df-convert\" onclick=\"convertToInteractive('df-87863825-4869-491c-881e-d5ffa226d939')\"\n",
              "              title=\"Convert this dataframe to an interactive table.\"\n",
              "              style=\"display:none;\">\n",
              "        \n",
              "  <svg xmlns=\"http://www.w3.org/2000/svg\" height=\"24px\"viewBox=\"0 0 24 24\"\n",
              "       width=\"24px\">\n",
              "    <path d=\"M0 0h24v24H0V0z\" fill=\"none\"/>\n",
              "    <path d=\"M18.56 5.44l.94 2.06.94-2.06 2.06-.94-2.06-.94-.94-2.06-.94 2.06-2.06.94zm-11 1L8.5 8.5l.94-2.06 2.06-.94-2.06-.94L8.5 2.5l-.94 2.06-2.06.94zm10 10l.94 2.06.94-2.06 2.06-.94-2.06-.94-.94-2.06-.94 2.06-2.06.94z\"/><path d=\"M17.41 7.96l-1.37-1.37c-.4-.4-.92-.59-1.43-.59-.52 0-1.04.2-1.43.59L10.3 9.45l-7.72 7.72c-.78.78-.78 2.05 0 2.83L4 21.41c.39.39.9.59 1.41.59.51 0 1.02-.2 1.41-.59l7.78-7.78 2.81-2.81c.8-.78.8-2.07 0-2.86zM5.41 20L4 18.59l7.72-7.72 1.47 1.35L5.41 20z\"/>\n",
              "  </svg>\n",
              "      </button>\n",
              "      \n",
              "  <style>\n",
              "    .colab-df-container {\n",
              "      display:flex;\n",
              "      flex-wrap:wrap;\n",
              "      gap: 12px;\n",
              "    }\n",
              "\n",
              "    .colab-df-convert {\n",
              "      background-color: #E8F0FE;\n",
              "      border: none;\n",
              "      border-radius: 50%;\n",
              "      cursor: pointer;\n",
              "      display: none;\n",
              "      fill: #1967D2;\n",
              "      height: 32px;\n",
              "      padding: 0 0 0 0;\n",
              "      width: 32px;\n",
              "    }\n",
              "\n",
              "    .colab-df-convert:hover {\n",
              "      background-color: #E2EBFA;\n",
              "      box-shadow: 0px 1px 2px rgba(60, 64, 67, 0.3), 0px 1px 3px 1px rgba(60, 64, 67, 0.15);\n",
              "      fill: #174EA6;\n",
              "    }\n",
              "\n",
              "    [theme=dark] .colab-df-convert {\n",
              "      background-color: #3B4455;\n",
              "      fill: #D2E3FC;\n",
              "    }\n",
              "\n",
              "    [theme=dark] .colab-df-convert:hover {\n",
              "      background-color: #434B5C;\n",
              "      box-shadow: 0px 1px 3px 1px rgba(0, 0, 0, 0.15);\n",
              "      filter: drop-shadow(0px 1px 2px rgba(0, 0, 0, 0.3));\n",
              "      fill: #FFFFFF;\n",
              "    }\n",
              "  </style>\n",
              "\n",
              "      <script>\n",
              "        const buttonEl =\n",
              "          document.querySelector('#df-87863825-4869-491c-881e-d5ffa226d939 button.colab-df-convert');\n",
              "        buttonEl.style.display =\n",
              "          google.colab.kernel.accessAllowed ? 'block' : 'none';\n",
              "\n",
              "        async function convertToInteractive(key) {\n",
              "          const element = document.querySelector('#df-87863825-4869-491c-881e-d5ffa226d939');\n",
              "          const dataTable =\n",
              "            await google.colab.kernel.invokeFunction('convertToInteractive',\n",
              "                                                     [key], {});\n",
              "          if (!dataTable) return;\n",
              "\n",
              "          const docLinkHtml = 'Like what you see? Visit the ' +\n",
              "            '<a target=\"_blank\" href=https://colab.research.google.com/notebooks/data_table.ipynb>data table notebook</a>'\n",
              "            + ' to learn more about interactive tables.';\n",
              "          element.innerHTML = '';\n",
              "          dataTable['output_type'] = 'display_data';\n",
              "          await google.colab.output.renderOutput(dataTable, element);\n",
              "          const docLink = document.createElement('div');\n",
              "          docLink.innerHTML = docLinkHtml;\n",
              "          element.appendChild(docLink);\n",
              "        }\n",
              "      </script>\n",
              "    </div>\n",
              "  </div>\n",
              "  "
            ]
          },
          "metadata": {},
          "execution_count": 33
        }
      ]
    },
    {
      "cell_type": "code",
      "source": [
        "# Age_bin3 구간 별 관측치 수 집계\n",
        "\n",
        "df1.Age_bin3.value_counts().to_frame().style.background_gradient(cmap='winter')"
      ],
      "metadata": {
        "colab": {
          "base_uri": "https://localhost:8080/",
          "height": 289
        },
        "id": "Fh6esYUWLqdI",
        "outputId": "51861931-d0a8-417b-b380-a703bce66c1b"
      },
      "execution_count": null,
      "outputs": [
        {
          "output_type": "execute_result",
          "data": {
            "text/plain": [
              "<pandas.io.formats.style.Styler at 0x7fa5cf52bb20>"
            ],
            "text/html": [
              "<style type=\"text/css\">\n",
              "#T_3b201_row0_col0, #T_3b201_row1_col0 {\n",
              "  background-color: #00ff80;\n",
              "  color: #000000;\n",
              "}\n",
              "#T_3b201_row2_col0 {\n",
              "  background-color: #0095b4;\n",
              "  color: #f1f1f1;\n",
              "}\n",
              "#T_3b201_row3_col0 {\n",
              "  background-color: #0080bf;\n",
              "  color: #f1f1f1;\n",
              "}\n",
              "#T_3b201_row4_col0 {\n",
              "  background-color: #0075c4;\n",
              "  color: #f1f1f1;\n",
              "}\n",
              "#T_3b201_row5_col0 {\n",
              "  background-color: #0035e4;\n",
              "  color: #f1f1f1;\n",
              "}\n",
              "#T_3b201_row6_col0 {\n",
              "  background-color: #0000ff;\n",
              "  color: #f1f1f1;\n",
              "}\n",
              "</style>\n",
              "<table id=\"T_3b201_\" class=\"dataframe\">\n",
              "  <thead>\n",
              "    <tr>\n",
              "      <th class=\"blank level0\" >&nbsp;</th>\n",
              "      <th class=\"col_heading level0 col0\" >Age_bin3</th>\n",
              "    </tr>\n",
              "  </thead>\n",
              "  <tbody>\n",
              "    <tr>\n",
              "      <th id=\"T_3b201_level0_row0\" class=\"row_heading level0 row0\" >a</th>\n",
              "      <td id=\"T_3b201_row0_col0\" class=\"data row0 col0\" >154</td>\n",
              "    </tr>\n",
              "    <tr>\n",
              "      <th id=\"T_3b201_level0_row1\" class=\"row_heading level0 row1\" >c</th>\n",
              "      <td id=\"T_3b201_row1_col0\" class=\"data row1 col0\" >154</td>\n",
              "    </tr>\n",
              "    <tr>\n",
              "      <th id=\"T_3b201_level0_row2\" class=\"row_heading level0 row2\" >f</th>\n",
              "      <td id=\"T_3b201_row2_col0\" class=\"data row2 col0\" >144</td>\n",
              "    </tr>\n",
              "    <tr>\n",
              "      <th id=\"T_3b201_level0_row3\" class=\"row_heading level0 row3\" >e</th>\n",
              "      <td id=\"T_3b201_row3_col0\" class=\"data row3 col0\" >142</td>\n",
              "    </tr>\n",
              "    <tr>\n",
              "      <th id=\"T_3b201_level0_row4\" class=\"row_heading level0 row4\" >d</th>\n",
              "      <td id=\"T_3b201_row4_col0\" class=\"data row4 col0\" >141</td>\n",
              "    </tr>\n",
              "    <tr>\n",
              "      <th id=\"T_3b201_level0_row5\" class=\"row_heading level0 row5\" >b</th>\n",
              "      <td id=\"T_3b201_row5_col0\" class=\"data row5 col0\" >135</td>\n",
              "    </tr>\n",
              "    <tr>\n",
              "      <th id=\"T_3b201_level0_row6\" class=\"row_heading level0 row6\" >g</th>\n",
              "      <td id=\"T_3b201_row6_col0\" class=\"data row6 col0\" >130</td>\n",
              "    </tr>\n",
              "  </tbody>\n",
              "</table>\n"
            ]
          },
          "metadata": {},
          "execution_count": 34
        }
      ]
    },
    {
      "cell_type": "code",
      "source": [
        "https://data-newbie.tistory.com/440"
      ],
      "metadata": {
        "colab": {
          "base_uri": "https://localhost:8080/",
          "height": 152
        },
        "id": "7TZJiKvCNbJ2",
        "outputId": "67538128-4168-4492-952c-276e93c492a8"
      },
      "execution_count": null,
      "outputs": [
        {
          "output_type": "error",
          "ename": "SyntaxError",
          "evalue": "ignored",
          "traceback": [
            "\u001b[0;36m  File \u001b[0;32m\"<ipython-input-35-88c45b03a3fb>\"\u001b[0;36m, line \u001b[0;32m1\u001b[0m\n\u001b[0;31m    https://data-newbie.tistory.com/440\u001b[0m\n\u001b[0m          ^\u001b[0m\n\u001b[0;31mSyntaxError\u001b[0m\u001b[0;31m:\u001b[0m invalid syntax\n"
          ]
        }
      ]
    },
    {
      "cell_type": "code",
      "source": [],
      "metadata": {
        "id": "VPHeZ0mtRRbp"
      },
      "execution_count": null,
      "outputs": []
    },
    {
      "cell_type": "code",
      "source": [
        "# WOE를 사용한 변수 구간화\n",
        "\n",
        "df2 = df.copy()  # 데이터셋 복사\n",
        "\n",
        "\n",
        "# xverse 함수 적용을 위한 더미변수 변환\n",
        "df2=pd.get_dummies(df)\n",
        "\n",
        "# 구간화 할 컬럼(X), 기준 컬럼(y) 지정\n",
        "X = df2[['Income']]\n",
        "y = df2[['Default']]\n",
        "\n",
        "y = y.T.squeeze() # 차원 축소\n",
        "\n",
        "# WOE 모델 설정 및 적용\n",
        "clf = WOE()\n",
        "clf.fit(X, y)\n",
        "\n",
        "# 구간 기준점 및 eight of Evidence 값 테이블 생성\n",
        "a=clf.woe_df\n",
        "\n",
        "#Information Value 데이블 생성\n",
        "b=clf.iv_df\n",
        "\n",
        "a.head()"
      ],
      "metadata": {
        "colab": {
          "base_uri": "https://localhost:8080/",
          "height": 260
        },
        "id": "A92ti_qzLucz",
        "outputId": "28180395-654c-44a2-bb18-5d0bc3336d4f"
      },
      "execution_count": null,
      "outputs": [
        {
          "output_type": "execute_result",
          "data": {
            "text/plain": [
              "  Variable_Name              Category  Count  Event  Non_Event  Event_Rate  \\\n",
              "0        Income  (20130.999, 45898.0]    334     38        296    0.113772   \n",
              "1        Income    (45898.0, 72677.0]    333     40        293    0.120120   \n",
              "2        Income    (72677.0, 99850.0]    333     34        299    0.102102   \n",
              "\n",
              "   Non_Event_Rate  Event_Distribution  Non_Event_Distribution      WOE  \\\n",
              "0        0.886228            0.339286                0.333333  0.01770   \n",
              "1        0.879880            0.357143                0.329955  0.07918   \n",
              "2        0.897898            0.303571                0.336712 -0.10361   \n",
              "\n",
              "   Information_Value  \n",
              "0           0.005692  \n",
              "1           0.005692  \n",
              "2           0.005692  "
            ],
            "text/html": [
              "\n",
              "  <div id=\"df-8fd34acb-cec7-4679-8253-9c6f8cd2b050\">\n",
              "    <div class=\"colab-df-container\">\n",
              "      <div>\n",
              "<style scoped>\n",
              "    .dataframe tbody tr th:only-of-type {\n",
              "        vertical-align: middle;\n",
              "    }\n",
              "\n",
              "    .dataframe tbody tr th {\n",
              "        vertical-align: top;\n",
              "    }\n",
              "\n",
              "    .dataframe thead th {\n",
              "        text-align: right;\n",
              "    }\n",
              "</style>\n",
              "<table border=\"1\" class=\"dataframe\">\n",
              "  <thead>\n",
              "    <tr style=\"text-align: right;\">\n",
              "      <th></th>\n",
              "      <th>Variable_Name</th>\n",
              "      <th>Category</th>\n",
              "      <th>Count</th>\n",
              "      <th>Event</th>\n",
              "      <th>Non_Event</th>\n",
              "      <th>Event_Rate</th>\n",
              "      <th>Non_Event_Rate</th>\n",
              "      <th>Event_Distribution</th>\n",
              "      <th>Non_Event_Distribution</th>\n",
              "      <th>WOE</th>\n",
              "      <th>Information_Value</th>\n",
              "    </tr>\n",
              "  </thead>\n",
              "  <tbody>\n",
              "    <tr>\n",
              "      <th>0</th>\n",
              "      <td>Income</td>\n",
              "      <td>(20130.999, 45898.0]</td>\n",
              "      <td>334</td>\n",
              "      <td>38</td>\n",
              "      <td>296</td>\n",
              "      <td>0.113772</td>\n",
              "      <td>0.886228</td>\n",
              "      <td>0.339286</td>\n",
              "      <td>0.333333</td>\n",
              "      <td>0.01770</td>\n",
              "      <td>0.005692</td>\n",
              "    </tr>\n",
              "    <tr>\n",
              "      <th>1</th>\n",
              "      <td>Income</td>\n",
              "      <td>(45898.0, 72677.0]</td>\n",
              "      <td>333</td>\n",
              "      <td>40</td>\n",
              "      <td>293</td>\n",
              "      <td>0.120120</td>\n",
              "      <td>0.879880</td>\n",
              "      <td>0.357143</td>\n",
              "      <td>0.329955</td>\n",
              "      <td>0.07918</td>\n",
              "      <td>0.005692</td>\n",
              "    </tr>\n",
              "    <tr>\n",
              "      <th>2</th>\n",
              "      <td>Income</td>\n",
              "      <td>(72677.0, 99850.0]</td>\n",
              "      <td>333</td>\n",
              "      <td>34</td>\n",
              "      <td>299</td>\n",
              "      <td>0.102102</td>\n",
              "      <td>0.897898</td>\n",
              "      <td>0.303571</td>\n",
              "      <td>0.336712</td>\n",
              "      <td>-0.10361</td>\n",
              "      <td>0.005692</td>\n",
              "    </tr>\n",
              "  </tbody>\n",
              "</table>\n",
              "</div>\n",
              "      <button class=\"colab-df-convert\" onclick=\"convertToInteractive('df-8fd34acb-cec7-4679-8253-9c6f8cd2b050')\"\n",
              "              title=\"Convert this dataframe to an interactive table.\"\n",
              "              style=\"display:none;\">\n",
              "        \n",
              "  <svg xmlns=\"http://www.w3.org/2000/svg\" height=\"24px\"viewBox=\"0 0 24 24\"\n",
              "       width=\"24px\">\n",
              "    <path d=\"M0 0h24v24H0V0z\" fill=\"none\"/>\n",
              "    <path d=\"M18.56 5.44l.94 2.06.94-2.06 2.06-.94-2.06-.94-.94-2.06-.94 2.06-2.06.94zm-11 1L8.5 8.5l.94-2.06 2.06-.94-2.06-.94L8.5 2.5l-.94 2.06-2.06.94zm10 10l.94 2.06.94-2.06 2.06-.94-2.06-.94-.94-2.06-.94 2.06-2.06.94z\"/><path d=\"M17.41 7.96l-1.37-1.37c-.4-.4-.92-.59-1.43-.59-.52 0-1.04.2-1.43.59L10.3 9.45l-7.72 7.72c-.78.78-.78 2.05 0 2.83L4 21.41c.39.39.9.59 1.41.59.51 0 1.02-.2 1.41-.59l7.78-7.78 2.81-2.81c.8-.78.8-2.07 0-2.86zM5.41 20L4 18.59l7.72-7.72 1.47 1.35L5.41 20z\"/>\n",
              "  </svg>\n",
              "      </button>\n",
              "      \n",
              "  <style>\n",
              "    .colab-df-container {\n",
              "      display:flex;\n",
              "      flex-wrap:wrap;\n",
              "      gap: 12px;\n",
              "    }\n",
              "\n",
              "    .colab-df-convert {\n",
              "      background-color: #E8F0FE;\n",
              "      border: none;\n",
              "      border-radius: 50%;\n",
              "      cursor: pointer;\n",
              "      display: none;\n",
              "      fill: #1967D2;\n",
              "      height: 32px;\n",
              "      padding: 0 0 0 0;\n",
              "      width: 32px;\n",
              "    }\n",
              "\n",
              "    .colab-df-convert:hover {\n",
              "      background-color: #E2EBFA;\n",
              "      box-shadow: 0px 1px 2px rgba(60, 64, 67, 0.3), 0px 1px 3px 1px rgba(60, 64, 67, 0.15);\n",
              "      fill: #174EA6;\n",
              "    }\n",
              "\n",
              "    [theme=dark] .colab-df-convert {\n",
              "      background-color: #3B4455;\n",
              "      fill: #D2E3FC;\n",
              "    }\n",
              "\n",
              "    [theme=dark] .colab-df-convert:hover {\n",
              "      background-color: #434B5C;\n",
              "      box-shadow: 0px 1px 3px 1px rgba(0, 0, 0, 0.15);\n",
              "      filter: drop-shadow(0px 1px 2px rgba(0, 0, 0, 0.3));\n",
              "      fill: #FFFFFF;\n",
              "    }\n",
              "  </style>\n",
              "\n",
              "      <script>\n",
              "        const buttonEl =\n",
              "          document.querySelector('#df-8fd34acb-cec7-4679-8253-9c6f8cd2b050 button.colab-df-convert');\n",
              "        buttonEl.style.display =\n",
              "          google.colab.kernel.accessAllowed ? 'block' : 'none';\n",
              "\n",
              "        async function convertToInteractive(key) {\n",
              "          const element = document.querySelector('#df-8fd34acb-cec7-4679-8253-9c6f8cd2b050');\n",
              "          const dataTable =\n",
              "            await google.colab.kernel.invokeFunction('convertToInteractive',\n",
              "                                                     [key], {});\n",
              "          if (!dataTable) return;\n",
              "\n",
              "          const docLinkHtml = 'Like what you see? Visit the ' +\n",
              "            '<a target=\"_blank\" href=https://colab.research.google.com/notebooks/data_table.ipynb>data table notebook</a>'\n",
              "            + ' to learn more about interactive tables.';\n",
              "          element.innerHTML = '';\n",
              "          dataTable['output_type'] = 'display_data';\n",
              "          await google.colab.output.renderOutput(dataTable, element);\n",
              "          const docLink = document.createElement('div');\n",
              "          docLink.innerHTML = docLinkHtml;\n",
              "          element.appendChild(docLink);\n",
              "        }\n",
              "      </script>\n",
              "    </div>\n",
              "  </div>\n",
              "  "
            ]
          },
          "metadata": {},
          "execution_count": 36
        }
      ]
    },
    {
      "cell_type": "code",
      "source": [
        "print(pd.__version__)"
      ],
      "metadata": {
        "id": "enpfo2qUMBfR"
      },
      "execution_count": null,
      "outputs": []
    },
    {
      "cell_type": "code",
      "source": [
        "WOE를 활용한 구간화 기준은 현재 데이터에서는 낮지만, 타겟변수에 대한 강력함이 있으면 더더욱 IV가 높아질수 있습니다.\n",
        "# Binning에 대한 얘기 추가"
      ],
      "metadata": {
        "id": "FNG9LbimOwRA"
      },
      "execution_count": null,
      "outputs": []
    },
    {
      "cell_type": "markdown",
      "source": [
        "# 데이터 표준화와 정규화 스케일링\n",
        "\n",
        "독립변수들의 서로 단위가 다르거나 편차가 심할때 값의 스케일을 일정하게 변환시켜주는 방법으로는 표준화와 정규화가 있다.\n",
        "\n",
        "표준화와 정규화를 통해 학습의 효율을 증대시킬 수 있어 많이 사용하는 방법 중 하나이다.\n",
        "\n",
        "표준화는 각 관측치 값이 전체 평균을 기준으로 어느정도 멀리 떨어져 있는지 나타낼때 사용한다.\n",
        "\n",
        "정규화는 데이터의 범위를 0부터 1까지로 변환하여 데이터 분포를 조정하는 방법이다.\n",
        "\n",
        "표준화의 경우 최대값이 어떻게 될지는 평균에 얼마나 떨어져있는지에 따라 다르지만\n",
        "\n",
        "정규화는 무조건 1이 최대값이다. 그러나 평균 대비한 값이 아니기 때문에 어느정도 떨어져 있는지는 파악하기가 쉽지 않다.\n",
        "\n",
        "하지만 결과론적으로는 비슷한 느낌으로 데이터 변환이 된다."
      ],
      "metadata": {
        "id": "BS_8KwI3VXWN"
      }
    },
    {
      "cell_type": "code",
      "source": [
        "from sklearn.datasets import load_iris\n",
        "\n",
        "iris  = load_iris()\n",
        "\n",
        "x = iris['data']\n",
        "y = iris['target']"
      ],
      "metadata": {
        "id": "_fNl6O-GVZI1"
      },
      "execution_count": null,
      "outputs": []
    },
    {
      "cell_type": "code",
      "source": [
        "# 데이터에서 row는 다 받아오고, 컬럼은 첫번째것 한개만 가져온다.\n",
        "X = x[:,0]"
      ],
      "metadata": {
        "id": "mHI7C6yZmfFV"
      },
      "execution_count": null,
      "outputs": []
    },
    {
      "cell_type": "code",
      "source": [
        "X_ = (X-X.mean())/X.std()"
      ],
      "metadata": {
        "id": "WNTPPg_Nne1f"
      },
      "execution_count": null,
      "outputs": []
    },
    {
      "cell_type": "code",
      "source": [
        "plt.figure(figsize=(12, 6))\n",
        "plt.subplot(1, 2, 1)\n",
        "sns.distplot(X, bins=5, color='b')\n",
        "plt.title('Original', fontsize=16)\n",
        "\n",
        "plt.subplot(1, 2, 2)\n",
        "sns.distplot(X_, bins=5, color='r')\n",
        "plt.title('Standardization', fontsize=16)\n",
        "plt.show()"
      ],
      "metadata": {
        "colab": {
          "base_uri": "https://localhost:8080/",
          "height": 949
        },
        "id": "ulJDc4aCngsx",
        "outputId": "224bf97f-5c9d-4de8-8e4e-2a75cfba4ea7"
      },
      "execution_count": null,
      "outputs": [
        {
          "output_type": "stream",
          "name": "stderr",
          "text": [
            "<ipython-input-41-6c1de613e6b6>:3: UserWarning: \n",
            "\n",
            "`distplot` is a deprecated function and will be removed in seaborn v0.14.0.\n",
            "\n",
            "Please adapt your code to use either `displot` (a figure-level function with\n",
            "similar flexibility) or `histplot` (an axes-level function for histograms).\n",
            "\n",
            "For a guide to updating your code to use the new functions, please see\n",
            "https://gist.github.com/mwaskom/de44147ed2974457ad6372750bbe5751\n",
            "\n",
            "  sns.distplot(X, bins=5, color='b')\n",
            "<ipython-input-41-6c1de613e6b6>:7: UserWarning: \n",
            "\n",
            "`distplot` is a deprecated function and will be removed in seaborn v0.14.0.\n",
            "\n",
            "Please adapt your code to use either `displot` (a figure-level function with\n",
            "similar flexibility) or `histplot` (an axes-level function for histograms).\n",
            "\n",
            "For a guide to updating your code to use the new functions, please see\n",
            "https://gist.github.com/mwaskom/de44147ed2974457ad6372750bbe5751\n",
            "\n",
            "  sns.distplot(X_, bins=5, color='r')\n"
          ]
        },
        {
          "output_type": "display_data",
          "data": {
            "text/plain": [
              "<Figure size 1200x600 with 2 Axes>"
            ],
            "image/png": "[encoded data removed]"
          },
          "metadata": {}
        }
      ]
    },
    {
      "cell_type": "code",
      "source": [
        "x"
      ],
      "metadata": {
        "colab": {
          "base_uri": "https://localhost:8080/"
        },
        "id": "Go0S3d6wnwxz",
        "outputId": "0242ed42-b7b9-4157-e949-ffc937c85431"
      },
      "execution_count": null,
      "outputs": [
        {
          "output_type": "execute_result",
          "data": {
            "text/plain": [
              "array([[5.1, 3.5, 1.4, 0.2],\n",
              "       [4.9, 3. , 1.4, 0.2],\n",
              "       [4.7, 3.2, 1.3, 0.2],\n",
              "       [4.6, 3.1, 1.5, 0.2],\n",
              "       [5. , 3.6, 1.4, 0.2],\n",
              "       [5.4, 3.9, 1.7, 0.4],\n",
              "       [4.6, 3.4, 1.4, 0.3],\n",
              "       [5. , 3.4, 1.5, 0.2],\n",
              "       [4.4, 2.9, 1.4, 0.2],\n",
              "       [4.9, 3.1, 1.5, 0.1],\n",
              "       [5.4, 3.7, 1.5, 0.2],\n",
              "       [4.8, 3.4, 1.6, 0.2],\n",
              "       [4.8, 3. , 1.4, 0.1],\n",
              "       [4.3, 3. , 1.1, 0.1],\n",
              "       [5.8, 4. , 1.2, 0.2],\n",
              "       [5.7, 4.4, 1.5, 0.4],\n",
              "       [5.4, 3.9, 1.3, 0.4],\n",
              "       [5.1, 3.5, 1.4, 0.3],\n",
              "       [5.7, 3.8, 1.7, 0.3],\n",
              "       [5.1, 3.8, 1.5, 0.3],\n",
              "       [5.4, 3.4, 1.7, 0.2],\n",
              "       [5.1, 3.7, 1.5, 0.4],\n",
              "       [4.6, 3.6, 1. , 0.2],\n",
              "       [5.1, 3.3, 1.7, 0.5],\n",
              "       [4.8, 3.4, 1.9, 0.2],\n",
              "       [5. , 3. , 1.6, 0.2],\n",
              "       [5. , 3.4, 1.6, 0.4],\n",
              "       [5.2, 3.5, 1.5, 0.2],\n",
              "       [5.2, 3.4, 1.4, 0.2],\n",
              "       [4.7, 3.2, 1.6, 0.2],\n",
              "       [4.8, 3.1, 1.6, 0.2],\n",
              "       [5.4, 3.4, 1.5, 0.4],\n",
              "       [5.2, 4.1, 1.5, 0.1],\n",
              "       [5.5, 4.2, 1.4, 0.2],\n",
              "       [4.9, 3.1, 1.5, 0.2],\n",
              "       [5. , 3.2, 1.2, 0.2],\n",
              "       [5.5, 3.5, 1.3, 0.2],\n",
              "       [4.9, 3.6, 1.4, 0.1],\n",
              "       [4.4, 3. , 1.3, 0.2],\n",
              "       [5.1, 3.4, 1.5, 0.2],\n",
              "       [5. , 3.5, 1.3, 0.3],\n",
              "       [4.5, 2.3, 1.3, 0.3],\n",
              "       [4.4, 3.2, 1.3, 0.2],\n",
              "       [5. , 3.5, 1.6, 0.6],\n",
              "       [5.1, 3.8, 1.9, 0.4],\n",
              "       [4.8, 3. , 1.4, 0.3],\n",
              "       [5.1, 3.8, 1.6, 0.2],\n",
              "       [4.6, 3.2, 1.4, 0.2],\n",
              "       [5.3, 3.7, 1.5, 0.2],\n",
              "       [5. , 3.3, 1.4, 0.2],\n",
              "       [7. , 3.2, 4.7, 1.4],\n",
              "       [6.4, 3.2, 4.5, 1.5],\n",
              "       [6.9, 3.1, 4.9, 1.5],\n",
              "       [5.5, 2.3, 4. , 1.3],\n",
              "       [6.5, 2.8, 4.6, 1.5],\n",
              "       [5.7, 2.8, 4.5, 1.3],\n",
              "       [6.3, 3.3, 4.7, 1.6],\n",
              "       [4.9, 2.4, 3.3, 1. ],\n",
              "       [6.6, 2.9, 4.6, 1.3],\n",
              "       [5.2, 2.7, 3.9, 1.4],\n",
              "       [5. , 2. , 3.5, 1. ],\n",
              "       [5.9, 3. , 4.2, 1.5],\n",
              "       [6. , 2.2, 4. , 1. ],\n",
              "       [6.1, 2.9, 4.7, 1.4],\n",
              "       [5.6, 2.9, 3.6, 1.3],\n",
              "       [6.7, 3.1, 4.4, 1.4],\n",
              "       [5.6, 3. , 4.5, 1.5],\n",
              "       [5.8, 2.7, 4.1, 1. ],\n",
              "       [6.2, 2.2, 4.5, 1.5],\n",
              "       [5.6, 2.5, 3.9, 1.1],\n",
              "       [5.9, 3.2, 4.8, 1.8],\n",
              "       [6.1, 2.8, 4. , 1.3],\n",
              "       [6.3, 2.5, 4.9, 1.5],\n",
              "       [6.1, 2.8, 4.7, 1.2],\n",
              "       [6.4, 2.9, 4.3, 1.3],\n",
              "       [6.6, 3. , 4.4, 1.4],\n",
              "       [6.8, 2.8, 4.8, 1.4],\n",
              "       [6.7, 3. , 5. , 1.7],\n",
              "       [6. , 2.9, 4.5, 1.5],\n",
              "       [5.7, 2.6, 3.5, 1. ],\n",
              "       [5.5, 2.4, 3.8, 1.1],\n",
              "       [5.5, 2.4, 3.7, 1. ],\n",
              "       [5.8, 2.7, 3.9, 1.2],\n",
              "       [6. , 2.7, 5.1, 1.6],\n",
              "       [5.4, 3. , 4.5, 1.5],\n",
              "       [6. , 3.4, 4.5, 1.6],\n",
              "       [6.7, 3.1, 4.7, 1.5],\n",
              "       [6.3, 2.3, 4.4, 1.3],\n",
              "       [5.6, 3. , 4.1, 1.3],\n",
              "       [5.5, 2.5, 4. , 1.3],\n",
              "       [5.5, 2.6, 4.4, 1.2],\n",
              "       [6.1, 3. , 4.6, 1.4],\n",
              "       [5.8, 2.6, 4. , 1.2],\n",
              "       [5. , 2.3, 3.3, 1. ],\n",
              "       [5.6, 2.7, 4.2, 1.3],\n",
              "       [5.7, 3. , 4.2, 1.2],\n",
              "       [5.7, 2.9, 4.2, 1.3],\n",
              "       [6.2, 2.9, 4.3, 1.3],\n",
              "       [5.1, 2.5, 3. , 1.1],\n",
              "       [5.7, 2.8, 4.1, 1.3],\n",
              "       [6.3, 3.3, 6. , 2.5],\n",
              "       [5.8, 2.7, 5.1, 1.9],\n",
              "       [7.1, 3. , 5.9, 2.1],\n",
              "       [6.3, 2.9, 5.6, 1.8],\n",
              "       [6.5, 3. , 5.8, 2.2],\n",
              "       [7.6, 3. , 6.6, 2.1],\n",
              "       [4.9, 2.5, 4.5, 1.7],\n",
              "       [7.3, 2.9, 6.3, 1.8],\n",
              "       [6.7, 2.5, 5.8, 1.8],\n",
              "       [7.2, 3.6, 6.1, 2.5],\n",
              "       [6.5, 3.2, 5.1, 2. ],\n",
              "       [6.4, 2.7, 5.3, 1.9],\n",
              "       [6.8, 3. , 5.5, 2.1],\n",
              "       [5.7, 2.5, 5. , 2. ],\n",
              "       [5.8, 2.8, 5.1, 2.4],\n",
              "       [6.4, 3.2, 5.3, 2.3],\n",
              "       [6.5, 3. , 5.5, 1.8],\n",
              "       [7.7, 3.8, 6.7, 2.2],\n",
              "       [7.7, 2.6, 6.9, 2.3],\n",
              "       [6. , 2.2, 5. , 1.5],\n",
              "       [6.9, 3.2, 5.7, 2.3],\n",
              "       [5.6, 2.8, 4.9, 2. ],\n",
              "       [7.7, 2.8, 6.7, 2. ],\n",
              "       [6.3, 2.7, 4.9, 1.8],\n",
              "       [6.7, 3.3, 5.7, 2.1],\n",
              "       [7.2, 3.2, 6. , 1.8],\n",
              "       [6.2, 2.8, 4.8, 1.8],\n",
              "       [6.1, 3. , 4.9, 1.8],\n",
              "       [6.4, 2.8, 5.6, 2.1],\n",
              "       [7.2, 3. , 5.8, 1.6],\n",
              "       [7.4, 2.8, 6.1, 1.9],\n",
              "       [7.9, 3.8, 6.4, 2. ],\n",
              "       [6.4, 2.8, 5.6, 2.2],\n",
              "       [6.3, 2.8, 5.1, 1.5],\n",
              "       [6.1, 2.6, 5.6, 1.4],\n",
              "       [7.7, 3. , 6.1, 2.3],\n",
              "       [6.3, 3.4, 5.6, 2.4],\n",
              "       [6.4, 3.1, 5.5, 1.8],\n",
              "       [6. , 3. , 4.8, 1.8],\n",
              "       [6.9, 3.1, 5.4, 2.1],\n",
              "       [6.7, 3.1, 5.6, 2.4],\n",
              "       [6.9, 3.1, 5.1, 2.3],\n",
              "       [5.8, 2.7, 5.1, 1.9],\n",
              "       [6.8, 3.2, 5.9, 2.3],\n",
              "       [6.7, 3.3, 5.7, 2.5],\n",
              "       [6.7, 3. , 5.2, 2.3],\n",
              "       [6.3, 2.5, 5. , 1.9],\n",
              "       [6.5, 3. , 5.2, 2. ],\n",
              "       [6.2, 3.4, 5.4, 2.3],\n",
              "       [5.9, 3. , 5.1, 1.8]])"
            ]
          },
          "metadata": {},
          "execution_count": 43
        }
      ]
    },
    {
      "cell_type": "code",
      "source": [
        "plt.figure(figsize=(12,6))\n",
        "\n",
        "plt.subplot(1,2,1)\n",
        "sns.scatterplot(x=np.array(x)[:,0], y=np.array(x)[:,1], hue=y, palette='muted')\n",
        "plt.title('Sepal', fontsize=16)\n",
        "\n",
        "plt.subplot(1,2,2)\n",
        "sns.scatterplot(x=np.array(x)[:,2], y=np.array(x)[:,3], hue=y, palette='muted')\n",
        "plt.title('Petal', fontsize=16)\n",
        "\n",
        "plt.show()"
      ],
      "metadata": {
        "colab": {
          "base_uri": "https://localhost:8080/",
          "height": 377
        },
        "id": "DlMPc7MFniRi",
        "outputId": "74446f8b-6660-49bd-9e89-8a9bf6f38dc5"
      },
      "execution_count": null,
      "outputs": [
        {
          "output_type": "display_data",
          "data": {
            "text/plain": [
              "<Figure size 1200x600 with 2 Axes>"
            ],
            "image/png": "[encoded data removed]"
          },
          "metadata": {}
        }
      ]
    },
    {
      "cell_type": "code",
      "source": [],
      "metadata": {
        "id": "HHka_C1znmK6"
      },
      "execution_count": null,
      "outputs": []
    }
  ]
}